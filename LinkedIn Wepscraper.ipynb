{
 "cells": [
  {
   "cell_type": "code",
   "execution_count": 2,
   "id": "a736eed9",
   "metadata": {},
   "outputs": [],
   "source": [
    "from selenium import webdriver\n",
    "from bs4 import BeautifulSoup\n",
    "import time\n",
    "  \n",
    "# Creating an instance\n",
    "from selenium.webdriver.chrome.service import Service as ChromeService\n",
    "from webdriver_manager.chrome import ChromeDriverManager\n",
    "service = ChromeService(executable_path=ChromeDriverManager().install())\n",
    "driver = webdriver.Chrome(service=service)\n",
    "\n",
    "from selenium.webdriver.common.by import By\n",
    "# Logging into LinkedIn\n",
    "driver.get(\"https://linkedin.com/uas/login\")\n",
    "time.sleep(5)\n",
    "  \n",
    "username = driver.find_element(By.ID,\"username\")\n",
    "username.send_keys(\"\")  # Enter Your Email Address\n",
    "  \n",
    "pword = driver.find_element(By.ID, \"password\")\n",
    "pword.send_keys(\"\")        # Enter Your Password\n",
    "  \n",
    "driver.find_element(By.XPATH,\"//button[@type='submit']\").click()\n",
    "  \n",
    "# Opening Kunal's Profile\n",
    "# paste the URL of Kunal's profile here\n",
    "profile_url = \"https://www.linkedin.com/in/massimilianoalbanese/\"\n",
    "  \n",
    "driver.get(profile_url)        # this will open the link"
   ]
  },
  {
   "cell_type": "code",
   "execution_count": 3,
   "id": "6fd11ea8",
   "metadata": {},
   "outputs": [],
   "source": [
    "start = time.time()\n",
    "  \n",
    "# will be used in the while loop\n",
    "initialScroll = 0\n",
    "finalScroll = 1000\n",
    "  \n",
    "while True:\n",
    "    driver.execute_script(\"window.scrollTo(0, document.body.scrollHeight);\")\n",
    "    # this command scrolls the window starting from\n",
    "    # the pixel value stored in the initialScroll \n",
    "    # variable to the pixel value stored at the\n",
    "    # finalScroll variable\n",
    "    initialScroll = finalScroll\n",
    "    finalScroll += 1000\n",
    "  \n",
    "    # we will stop the script for 3 seconds so that \n",
    "    # the data can load\n",
    "    time.sleep(3)\n",
    "    # You can change it as per your needs and internet speed\n",
    "  \n",
    "    end = time.time()\n",
    "  \n",
    "    # We will scroll for 20 seconds.\n",
    "    # You can change it as per your needs and internet speed\n",
    "    if round(end - start) > 20:\n",
    "        break"
   ]
  },
  {
   "cell_type": "code",
   "execution_count": 6,
   "id": "e560c530",
   "metadata": {},
   "outputs": [
    {
     "name": "stdout",
     "output_type": "stream",
     "text": [
      "Massimiliano Albanese\n"
     ]
    }
   ],
   "source": [
    "src = driver.page_source\n",
    "  \n",
    "   # Now using beautiful soup\n",
    "soup = BeautifulSoup(src, 'lxml')\n",
    "#print(soup.prettify())\n",
    "name = soup.find(\"h1\", {\"class\": \"text-heading-xlarge inline t-24 v-align-middle break-words\"})\n",
    "print(name.get_text().strip())"
   ]
  },
  {
   "cell_type": "code",
   "execution_count": 20,
   "id": "cf60bb77",
   "metadata": {},
   "outputs": [],
   "source": [
    "main = soup.find(\"main\", {\"id\": \"main\"})\n",
    "test1 = main.get_text().split('AboutAbout')[1]\n",
    "test2 = test1.split('ExperienceExperience')[0]\n",
    "about = test2.replace('\\n','')"
   ]
  },
  {
   "cell_type": "code",
   "execution_count": null,
   "id": "3a37c126",
   "metadata": {},
   "outputs": [],
   "source": []
  }
 ],
 "metadata": {
  "kernelspec": {
   "display_name": "Python 3 (ipykernel)",
   "language": "python",
   "name": "python3"
  },
  "language_info": {
   "codemirror_mode": {
    "name": "ipython",
    "version": 3
   },
   "file_extension": ".py",
   "mimetype": "text/x-python",
   "name": "python",
   "nbconvert_exporter": "python",
   "pygments_lexer": "ipython3",
   "version": "3.9.7"
  }
 },
 "nbformat": 4,
 "nbformat_minor": 5
}
