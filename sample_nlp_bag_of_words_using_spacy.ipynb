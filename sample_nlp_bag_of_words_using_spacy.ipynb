{
 "cells": [
  {
   "cell_type": "code",
   "execution_count": 3,
   "id": "7da7d9d9",
   "metadata": {},
   "outputs": [],
   "source": [
    "from nltk.tokenize import word_tokenize\n",
    "from nltk.corpus import stopwords\n",
    "from nltk.stem import PorterStemmer\n",
    "from nltk.stem import WordNetLemmatizer\n",
    "import re\n",
    "import spacy\n",
    "import pandas as pd"
   ]
  },
  {
   "cell_type": "code",
   "execution_count": 4,
   "id": "4e8545b3",
   "metadata": {},
   "outputs": [],
   "source": [
    "data = pd.read_csv(\"C:/Users/harsh/Desktop/project/Abolfazl Safikhani.csv\", header=0,\n",
    "                    delimiter=\",\")\n",
    "df= data['descriptions']\n",
    "bag = []\n",
    "nlp = spacy.load('en_core_web_sm')      # !python -m spacy download en    --- for installing the english model\n",
    "\n",
    "all_stopwords = nlp.Defaults.stop_words    #stopwords\n"
   ]
  },
  {
   "cell_type": "code",
   "execution_count": 5,
   "id": "5cbd0276",
   "metadata": {},
   "outputs": [],
   "source": [
    "for i in range(0,len(df)):\n",
    "    doc = nlp(df[i])\n",
    "    for j in[token.lemma_ for token in doc]:           #tokenizing and lemmatizing the text data\n",
    "        bag.append(j)"
   ]
  },
  {
   "cell_type": "code",
   "execution_count": 42,
   "id": "c1966efb",
   "metadata": {},
   "outputs": [
    {
     "name": "stdout",
     "output_type": "stream",
     "text": [
      "6883\n"
     ]
    }
   ],
   "source": [
    "print(len(bag))"
   ]
  },
  {
   "cell_type": "code",
   "execution_count": 50,
   "id": "6816f822",
   "metadata": {},
   "outputs": [],
   "source": [
    "cleaned_bag = []\n",
    "\n",
    "for k in range(0,len(bag)):\n",
    "\tletter_only = re.sub(\"[^a-zA-Z]\", \" \",bag[k])           #removing unnecessary symbols and special characters\n",
    "\tcleaned_bag.append(letter_only)"
   ]
  },
  {
   "cell_type": "code",
   "execution_count": 64,
   "id": "7eda38f5",
   "metadata": {},
   "outputs": [],
   "source": [
    "while(' ' in cleaned_bag):\n",
    "    cleaned_bag.remove(' ',',')\n",
    "\n"
   ]
  },
  {
   "cell_type": "code",
   "execution_count": 65,
   "id": "d73d4005",
   "metadata": {},
   "outputs": [
    {
     "name": "stdout",
     "output_type": "stream",
     "text": [
      "6024\n"
     ]
    }
   ],
   "source": [
    "print(len(cleaned_bag))"
   ]
  },
  {
   "cell_type": "code",
   "execution_count": 66,
   "id": "708990ca",
   "metadata": {},
   "outputs": [],
   "source": [
    "bag_of_words = [word for word in cleaned_bag if not word in all_stopwords]"
   ]
  },
  {
   "cell_type": "code",
   "execution_count": 67,
   "id": "0f0d78c0",
   "metadata": {},
   "outputs": [
    {
     "name": "stdout",
     "output_type": "stream",
     "text": [
      "3585\n"
     ]
    }
   ],
   "source": [
    "print(len(bag_of_words))"
   ]
  },
  {
   "cell_type": "code",
   "execution_count": 93,
   "id": "65cf073a",
   "metadata": {},
   "outputs": [
    {
     "name": "stdout",
     "output_type": "stream",
     "text": [
      "['assume', 'stationarity', 'unrealistic', 'time', 'series', 'application', 'realistic', 'alternative', 'assume', 'piecewise', 'stationarity', 'model', 'change', 'potentially', 'change', 'point', 'propose', 'stage', 'procedure', 'simultaneous', 'estimation', 'change', 'point', 'parameter', 'high', 'dimensional', 'piecewise', 'vector', 'autoregressive', 'VAR', 'model', 'step', 'reformulate', 'change', 'point', 'detection', 'problem', 'high', 'dimensional', 'variable', 'selection', 'solve', 'use', 'penalize', 'square', 'estimator', 'total', 'variation', 'penalty', 'penalize', 'estimation', 'method', 'estimate', 'number', 'change', 'point', 'propose', 'selection', 'criterion', 'identify', 'change', 'point', 'step', 'procedure', 'estimate', 'VAR', 'parameter', 'segment', 'prove', 'propose', 'procedure', 'consistently', 'detect', 'number', 'location', 'change', 'point', 'provide', 'spatio', 'temporal', 'variation', 'demand', 'transportation', 'particularly', 'taxis', 'highly', 'dynamic', 'urban', 'space', 'metropolis', 'New', 'York', 'City', 'impact', 'factor', 'commuting', 'weather', 'road', 'work', 'closure', 'disruption', 'transit', 'service', 'etc', 'study', 'endeavor', 'explain', 'user', 'demand', 'taxi', 'space', 'time', 'propose', 'generalize', 'spatio', 'temporal', 'autoregressive', 'STAR', 'model', 'deal', 'high', 'dimensionality', 'model', 'propose', 'use', 'LASSO', 'type', 'penalize', 'method', 'tackle', 'parameter', 'estimation', 'forecasting', 'performance', 'propose', 'model', 'measure', 'use', 'sample', 'mean', 'square', 'prediction', 'error', 'MSPE', 'propose', 'model', 'find', 'outperform', 'alternative', 'model', 'vector', 'autoregressive', 'VAR', 'model', 'proposed', 'modeling', 'framework', 'easily', 'interpretable', 'parameter', 'structure', 'suitable', 'driver', 'tend', 'range', 'anxiety', 'compare', 'drive', 'traditional', 'fuel', 'vehicle', 'drive', 'battery', 'electric', 'vehicle', 'BEV', 'long', 'trip', 'range', 'anxiety', 'potentially', 'negative', 'effect', 'driver', ' s', 'emotion', 'behavior', 'order', 'understand', 'behavior', 'improve', 'related', 'safety', 'issue', 'paper', 'focus', 'BEV', 'driver', 'study', 'China', 'survey', 'BEV', 'driver', 'actual', 'range', 'anxiety', 'effect', 'range', 'anxiety', 'driver', 'behavior', 'conduct', 'research', 'level', 'feeling', 'attitude', 'interviewee', 'quantize', 'Likert', 'scale', 'use', 'mathematical', 'tool', 'relationship', 'safety', 'buffer', 'define', 'measurement', 'period', 'range', 'anxiety', 'start', 'significantly', 'intervene', 'driver', ' s', 'operation', 'research', 'reveal', 'proportional', 'quotative', 'relationship', 'BEV', 'driver', 'safety', 'buffer', 'mileage', 'trip', 'factor', 'include', 'drive', 'experience', 'satisfactory', 'level', 'recharge', 'accessibility', 'resistibility', 'emotion', 'find', 'significant', 'contributing', 'factor', 'influence', 'perceive', 'range', 'anxiety', 'level', 'BEV', 'driver', 'research', 'provide', 'implication', 'future', 'study', 'interface', 'design', 'BEV', 'urban', 'transportation', 'system', 'traffic', 'signal', 'main', 'component', 'control', 'traffic', 'congestion', 'use', 'actuate', 'traffic', 'control', 'traffic', 'control', 'system', 'cause', 'delay', 'transportation', 'user', 'specifically', 'come', 'isolated', 'intersection', 'actuated', 'signal', 'control', 'benefit', 'prediction', 'cycle', 'length', 'cumbersome', 'vary', 'time', 'time', 'value', 'signal', 'cycle', 'length', 'actuated', 'control', 'depend', 'parameter', 'research', 'author', 'attempt', 'understand', 'dependence', 'exist', 'current', 'value', 'cycle', 'length', 'previous', 'value', 'capture', 'dependence', 'cycle', 'length', 'datum', 'time', 'series', 'analysis', 'apply', 'datum', 'obtain', 'simulate', 'fully', 'actuate', 'signal', 'behavior', 'signal', ' s', 'cycle', 'length', 'different', 'level', 'demand', 'analyze', 'base', 'sample', 'demand', 'e', 'hail', 'service', 'grow', 'rapidly', 'especially', 'large', 'city', 'uber', 'popular', 'e', 'hail', 'company', 'United', 'States', 'New', 'York', 'City', 'NYC', 'comparison', 'demand', 'yellow', 'cab', 'Uber', 'NYC', '    ', '    ', 'demand', 'Uber', 'increase', 'demand', 'distribute', 'uniformly', 'spatially', 'temporally', 'use', 'spatiotemporal', 'model', 'help', 'understand', 'demand', 'e', 'hail', 'service', 'predict', 'accurately', 'paper', 'propose', 'new', 'approach', 'analyze', 'predict', 'Uber', 'demand', 'prediction', 'performance', 'statistical', 'model', 'compare', 'include', 'temporal', 'model', 'vector', 'autoregressive', 'VAR', 'propose', 'spatiotemporal', 'model', 'spatial', 'temporal', 'autoregressive', 'STAR', 'absolute', 'shrinkage', 'selection', 'operator', 'apply', 'STAR', 'LASSO', 'STAR', 'accurate', 'efficient', 'measurement', 'patient reporte', 'outcome', 'key', 'cancer', 'symptom', 'management', 'trial', 'new', 'Patient', 'report', 'Outcomes', 'Measurement', 'Information', 'System', 'PROMIS', 'previously', 'develop', 'measure', 'similar', 'conceptual', 'content', 'legacy', 'available', 'measure', 'symptom', 'functioning', 'report', 'compare', 'performance', 'set', 'measure', 'PROMIS', 'legacy', 'recently', 'complete', 'trial', 'supportive', 'care', 'intervention', 'enrol', 'breast', 'cancer', 'patient', 'friend', 'family', 'caregiver', 'traffic', 'signal', 'intelligent', 'transportation', 'system', 'play', 'significant', 'role', 'city', 'smart', 'conventionally', 'traffic', 'light', 'design', 'fix', 'time', 'control', 'induce', 'lot', 'slack', 'time', 'unused', 'green', 'time', 'actuated', 'traffic', 'light', 'control', 'traffic', 'flow', 'real', 'time', 'responsive', 'variation', 'traffic', 'demand', 'isolated', 'signal', 'family', 'time', 'series', 'model', 'autoregressive', 'integrate', 'average', 'ARIMA', 'model', 'beneficial', 'predict', 'cycle', 'length', 'multiple', 'signal', 'place', 'corridor', 'different', 'spacing', 'configuration', 'cycle', 'length', 'variation', 'signal', 'relate', 'signal', ' s', 'value', 'affect', 'platoon', 'vehicle', 'come', 'neighboring', 'intersection', 'paper', 'multivariate', 'time', 'series', 'model', 'develop', 'analyze', 'behavior', 'signal', 'cycle', 'length', 'multiple', 'identify', 'change', 'break', 'point', 'multivariate', 'time', 'series', 'represent', 'canonical', 'problem', 'signal', 'processing', 'numerous', 'application', 'relate', 'anomaly', 'detection', 'problem', 'underlie', 'detection', 'methodology', 'heavily', 'depend', 'nature', 'mechanism', 'determine', 'temporal', 'dynamic', 'data', 'Vector', 'auto', 'regressive', 'model', 'VAR', 'constitute', 'widely', 'use', 'model', 'diverse', 'area', 'include', 'surveillance', 'application', 'economic', 'finance', 'neuroscience', 'work', 'consider', 'piece', 'wise', 'stationary', 'VAR', 'model', 'exhibit', 'break', 'point', 'corresponding', 'stationary', 'segment', 'transition', 'matrix', 'govern', 'model', ' s', 'temporal', 'evolution', 'decompose', 'common', 'low', 'rank', 'component', 'time', 'evolve', 'sparse', 'far', 'assume', 'number', 'available', 'time', 'point', 'small', 'number', 'model', 'parameter', 'operate', 'high', 'demand', 'taxi', 'vary', 'time', 'find', 'factor', 'affect', 'demand', 'understand', 'dynamic', 'taxi', 'demand', 'benefit', 'different', 'group', 'help', 'planner', 'improve', 'transportation', 'system', 'help', 'driver', 'reduce', 'vacant', 'time', 'paper', 'focus', 'modeling', 'analyze', 'taxi', 'demand', 'use', 'demand', 'transportation', 'mode', 'weather', 'condition', 'start', 'linear', 'regression', 'model', 'combine', 'time', 'series', 'model', 'combined', 'model', 'linear', 'regression', 'ARMA', 'error', 'ARMA', 'Auto', 'Regressive', 'Moving', 'Average', 'study', 'plug', 'square', 'estimator', 'change', 'point', 'parameter', 'change', 'mean', 'high', 'dimensional', 'random', 'vector', 'subgaussian', 'subexponential', 'distribution', 'obtain', 'sufficient', 'condition', 'estimator', 'possess', 'sufficient', 'adaptivity', 'plug', 'estimate', 'mean', 'parameter', 'order', 'yield', 'optimal', 'rate', 'convergence', 'integer', 'scale', 'rate', 'preserve', 'allow', 'high', 'dimensionality', 'potentially', 'diminish', 'jump', 'size', 'provide', 'subgaussian', 'subexponential', 'case', 'respectively', 'represent', 'sparsity', 'parameter', 'model', 'dimension', 'sample', 'period', 'separation', 'change', 'point', 'parametric', 'boundary', 'respectively', 'rate', 'convergence', 'free', 'logarithmic', 'term', 'allow', 'existence', 'limit', 'distribution', 'assume', 'stationarity', 'unrealistic', 'time', 'series', 'application', 'realistic', 'alternative', 'allow', 'piecewise', 'stationarity', 'model', 'allow', 'change', 'time', 'point', 'article', 'problem', 'detect', 'change', 'point', 'high', 'dimensional', 'piecewise', 'vector', 'autoregressive', 'model', 'VAR', 'consider', 'reformulate', 'problem', 'high', 'dimensional', 'variable', 'selection', 'penalize', 'square', 'estimation', 'use', 'total', 'variation', 'LASSO', 'penalty', 'propose', 'estimation', 'model', 'parameter', 'develop', 'method', 'estimate', 'number', 'change', 'point', 'backward', 'selection', 'criterion', 'propose', 'conjunction', 'penalize', 'square', 'estimator', 'tackle', 'issue', 'prove', 'propose', 'stage', 'procedure', 'consistently', 'detect', 'number', 'change', 'point', 'location', 'block', 'coordinate', 'descent', 'algorithm', 'develop', 'efficient', 'computation', 'model', 'parameter', 'performance', 'method', 'illustrate', 'use', 'simulation', 'scenario', 'demand', 'e', 'hail', 'service', 'grow', 'rapidly', 'especially', 'large', 'city', 'uber', 'popular', 'e', 'hail', 'company', 'United', 'Stated', 'New', 'York', 'City', 'comparison', 'demand', 'yellow', 'cab', 'Uber', 'NYC', '    ', '    ', 'demand', 'Uber', 'increase', 'demand', 'distribute', 'uniformly', 'spatially', 'temporally', 'use', 'spatio', 'temporal', 'time', 'series', 'model', 'help', 'understand', 'demand', 'e', 'hail', 'service', 'predict', 'accurately', 'paper', 'analyze', 'prediction', 'performance', 'temporal', 'model', 'vector', 'autoregressive', 'VAR', 'spatio', 'temporal', 'model', 'spatial', 'temporal', 'autoregressive', 'STAR', 'absolute', 'shrinkage', 'selection', 'operator', 'apply', 'STAR', 'LASSO', 'STAR', 'different', 'scenario', 'base', 'number', 'time', 'space', 'lag', 'apply', 'rush', 'hour', 'non', 'rush', 'hour', 'period', 'result', 'need', 'consider', 'spatial', 'model', 'taxi', 'demand', 'low', 'urinary', 'tract', 'symptom', 'luts', 'affect', '      ', 'man', 'undergo', 'radiation', 'therapy', 'RT', 'prostate', 'cancer', 'fast', 'transmission', 'rate', 'covid   ', 'worldwide', 'virus', 'important', 'challenge', 'year', '    ', 'mitigation', 'policy', 'impose', 'government', 'different', 'regional', 'level', 'country', 'state', 'county', 'city', 'stop', 'spread', 'virus', 'quantify', 'effect', 'mitigation', 'strategy', 'transmission', 'recovery', 'rate', 'predict', 'rate', 'new', 'daily', 'case', 'crucial', 'task', 'paper', 'propose', 'modeling', 'framework', 'account', 'policy', 'utilize', 'spatial', 'temporal', 'information', 'characterize', 'pattern', 'covid   ', 'progression', 'specifically', 'piecewise', 'susceptible', 'infect', 'recover', 'SIR', 'model', 'develop', 'date', 'transmission', 'recover', 'rate', 'change', 'significantly', 'define', 'break', 'point', 'model', 'novel', 'data', 'drive', 'algorithm', 'design', 'locate', 'break', 'point', 'use', 'idea', 'fuse', 'lasso', 'thresholding', 'order', 'enhance', 'forecasting', 'power', 'describe', 'additional', 'temporal', 'dependence', 'daily', 'number', 'case', 'model', 'far', 'couple', 'spatial', 'smoothing', 'covariate', 'vector', 'auto', 'regressive', 'VAR', 'model', 'propose', 'model', 'apply', 'U S ', 'state', 'county', 'result', 'confirm', 'effect', 'stay', 'home', 'order', 'state', 'early', 'opening', 'detect', 'break', 'point', 'close', 'event', 'far', 'model', 'perform', 'satisfactorily', 'short', 'term', 'forecast', 'number', 'new', 'daily', 'case', 'regional', 'level', 'utilize', 'estimate', 'spatio', 'temporal', 'covariance', 'structure', 'finally', 'theoretical', 'result', 'empirical', 'performance', 'propose', 'methodology', 'synthetic', 'compare', 'demand', 'yellow', 'cab', 'Uber', 'NYC', '    ', '    ', 'demand', 'Uber', 'increase', 'demand', 'yellow', 'cab', 'decrease', 'demand', 'distribute', 'uniformly', 'space', 'time', 'use', 'spatio', 'temporal', 'time', 'series', 'model', 'help', 'researcher', 'understand', 'demand', 'improve', 'prediction', 'accuracy', 'study', 'analyze', 'prediction', 'performance', 'spatio', 'temporal', 'model', 'LASSO', 'STAR', 'different', 'scenario', 'base', 'number', 'time', 'lag', 'space', 'lag', 'result', 'LASSO', 'model', 'outperform', 'STAR', 'model', 'find', 'knowledge', 'demand', 'information', 'surround', 'neighborhood', 'increase', 'space', 'lag', 'prediction', 'performance', 'far', 'improve', 'recent', 'year', 'change', 'point', 'detection', 'high', 'dimensional', 'datum', 'increasingly', 'important', 'scientific', 'field', 'Most', 'literature', 'develop', 'variety', 'separate', 'method', 'design', 'specified', 'model', 'e g ', 'mean', 'shift', 'model', 'vector', 'auto', 'regressive', 'model', 'graphical', 'model', 'paper', 'provide', 'unified', 'framework', 'structural', 'break', 'detection', 'suitable', 'large', 'class', 'model', 'propose', 'algorithm', 'automatically', 'achieve', 'consistent', 'parameter', 'estimate', 'change', 'point', 'detection', 'process', 'need', 'refit', 'model', 'specifically', 'introduce', 'step', 'procedure', 'step', 'utilize', 'block', 'segmentation', 'strategy', 'combine', 'fuse', 'lasso', 'base', 'estimation', 'criterion', 'lead', 'significant', 'computational', 'gain', 'compromise', 'statistical', 'accuracy', 'identify', 'number', 'location', 'structural', 'break', 'procedure', 'far', 'couple', 'hard', 'thresholde', 'exhaustive', 'search', 'step', 'consistently', 'estimate', 'number', 'location', 'break', 'point', 'strong', 'guarantee', 'prove', 'number', 'estimate', 'change', 'point', 'rate', 'convergence', 'location', 'consistent', 'estimate', 'model', 'parameter', 'provide', 'numerical', 'study', 'provide', 'support', 'theory', 'validate', 'competitive', 'performance', 'wide', 'range', 'model', 'develop', 'algorithm', 'implement', 'r', 'package', 'LinearDetect', 'understand', 'dynamic', 'urban', 'growth', 'important', 'task', 'urban', 'planning', 'influence', 'policy', 'decision', 'making', 'specifically', 'prediction', 'urban', 'growth', 'regional', 'level', 'crucial', 'regional', 'policy', 'maker', 'prediction', 'difficult', 'existence', 'complex', 'topological', 'structure', 'high', 'dimensional', 'nature', 'data', 'set', 'relate', 'urban', 'growth', 'spatial', 'temporal', 'auto', 'correlation', 'cross', 'correlation', 'regional', 'social', 'physical', 'covariate', 'need', 'properly', 'account', 'improve', 'forecasting', 'power', 'statistical', 'machine', 'learning', 'method', 'end', 'develop', 'novel', 'machine', 'learning', 'methodology', 'perform', 'prediction', 'urban', 'growth', 'regional', 'level', 'incorporate', 'lead', 'lag', 'non', 'linear', 'relationship', 'past', 'urban', 'change', 'region', 'neighbor', 'base', 'analysis', 'machine', 'learning', 'algorithm', 'study', 'problem', 'detect', 'locate', 'change', 'point', 'high', 'dimensional', 'Vector', 'Autoregressive', 'VAR', 'model', 'transition', 'matrix', 'exhibit', 'low', 'rank', 'plus', 'sparse', 'structure', 'address', 'problem', 'detect', 'single', 'change', 'point', 'use', 'exhaustive', 'search', 'algorithm', 'establish', 'finite', 'sample', 'error', 'bind', 'accuracy', 'extend', 'result', 'case', 'multiple', 'change', 'point', 'grow', 'function', 'sample', 'size', 'detection', 'base', 'step', 'algorithm', 'step', 'exhaustive', 'search', 'candidate', 'change', 'point', 'employ', 'overlap', 'window', 'subsequently', 'backwards', 'elimination', 'procedure', 'use', 'screen', 'redundant', 'candidate', 'step', 'strategy', 'yield', 'consistent', 'estimate', 'number', 'location', 'change', 'point', 'reduce', 'computation', 'cost', 'investigate', 'condition', 'surrogate', 'VAR', 'model', 'real', 'time', 'series', 'dataset', 'exhibit', 'structural', 'change', 'time', 'popular', 'model', 'capture', 'temporal', 'dependence', 'vector', 'autoregression', 'VAR', 'accommodate', 'structural', 'change', 'time', 'evolve', 'transition', 'matrix', 'problem', 'estimate', 'unknown', 'number', 'structural', 'break', 'point', 'VAR', 'model', 'parameter', 'additional', 'challenge', 'emerge', 'presence', 'large', 'dataset', 'accomplish', 'objective', 'computational', 'efficient', 'manner', 'article', 'propose', 'novel', 'procedure', 'leverage', 'block', 'segmentation', 'scheme', 'BSS', 'reduce', 'number', 'model', 'parameter', 'estimate', 'regularize', 'square', 'criterion', 'specifically', 'BSS', 'examine', 'appropriately', 'define', 'block', 'available', 'datum', 'combine', 'fuse', 'lasso', 'base', 'estimation', 'criterion', 'lead', 'significant', 'thank', 'simplicity', 'interpretable', 'structure', 'auto', 'regressive', 'process', 'widely', 'use', 'model', 'time', 'series', 'datum', 'real', 'time', 'series', 'data', 'set', 'exhibit', 'non', 'linear', 'pattern', 'require', 'non', 'linear', 'modeling', 'threshold', 'Auto', 'Regressive', 'TAR', 'process', 'provide', 'family', 'non', 'linear', 'auto', 'regressive', 'time', 'series', 'model', 'process', 'dynamic', 'specific', 'step', 'function', 'thresholde', 'variable', 'estimation', 'inference', 'low', 'dimensional', 'tar', 'model', 'investigate', 'high', 'dimensional', 'tar', 'model', 'receive', 'attention', 'article', 'develop', 'new', 'framework', 'estimate', 'high', 'dimensional', 'tar', 'model', 'propose', 'different', 'sparsity', 'induce', 'penalty', 'penalty', 'correspond', 'natural', 'extension', 'classical', 'tar', 'model', 'high', 'dimensional', 'setting', 'threshold', 'enforce', 'model', 'parameter', 'second', 'penalty', 'develop', 'Vector', 'Auto', 'Regressive', 'VAR', 'model', 'capture', 'lead', 'lag', 'temporal', 'dynamic', 'multivariate', 'time', 'series', 'datum', 'widely', 'use', 'macroeconomic', 'financial', 'econometric', 'neuroscience', 'functional', 'genomic', 'application', 'datum', 'exhibit', 'structural', 'change', 'autoregressive', 'dynamic', 'correspond', 'change', 'transition', 'matrix', 'VAR', 'model', 'specify', 'dynamic', 'present', 'r', 'package', 'VARDetect', 'implement', 'class', 'algorithm', 'detect', 'multiple', 'change', 'point', 'piecewise', 'stationary', 'VAR', 'model', 'exhibit', 'sublinear', 'computational', 'complexity', 'number', 'time', 'point', 'suited', 'structured', 'sparse', 'model', 'second', 'exhibit', 'linear', 'time', 'complexity', 'design', 'model', 'transition', 'matrix', 'assume', 'low', 'rank', 'plus', 'sparse', 'decomposition', 'package', 'function', 'generate', 'datum', 'variant', 'VAR', 'model', 'discuss', 'useful', 'simulation', 'study', 'visualize', 'result', 'network', 'layout', 'paper', 'study', 'problem', 'equivalence', 'gaussian', 'measure', 'induce', 'gaussian', 'random', 'field', 'GRFs', 'stationary', 'increment', 'prove', 'sufficient', 'condition', 'equivalence', 'term', 'behavior', 'spectral', 'measure', 'infinity', 'main', 'result', 'extend', 'Stein', '    ', 'Van', 'Zanten', '    ', '    ', 'applicable', 'rich', 'family', 'nonstationary', 'space', 'time', 'model', 'possible', 'anisotropy', 'behavior', 'traffic', 'signal', 'intelligent', 'transportation', 'system', 'play', 'significant', 'role', 'city', 'smart', 'conventionally', 'traffic', 'light', 'design', 'fix', 'time', 'control', 'induce', 'lot', 'slack', 'time', 'unused', 'green', 'time', 'actuated', 'traffic', 'light', 'control', 'traffic', 'flow', 'real', 'time', 'responsive', 'variation', 'traffic', 'demand', 'isolated', 'signal', 'family', 'time', 'series', 'model', 'autoregressive', 'integrate', 'average', 'ARIMA', 'model', 'beneficial', 'predict', 'cycle', 'length', 'multiple', 'signal', 'place', 'corridor', 'different', 'spacing', 'configuration', 'cycle', 'length', 'variation', 'signal', 'relate', 'signal', ' s', 'value', 'affect', 'platoon', 'vehicle', 'come', 'neighboring', 'intersection', 'paper', 'multivariate', 'time', 'series', 'model', 'develop', 'analyze', 'behavior', 'signal', 'cycle', 'length', 'multiple', 'intersection', 'place', 'corridor', 'fully', 'actuate', 'setup', 'signalize', 'intersection', 'model', 'corridor', 'different', 'spacing', 'multiple', 'level', 'traffic', 'demand', 'tackle', 'high', 'dimensional', 'nature', 'problem', 'penalize', 'square', 'method', 'utilize', 'estimation', 'procedure', 'output', 'sparse', 'model', 'propose', 'sparse', 'time', 'series', 'method', 'capture', 'signal', 'datum', 'reasonably', 'outperform', 'conventional', 'vector', 'autoregressive', 'VAR', 'model', 'case', '  ', 'powerful', 'univariate', 'model', 'ARIMA', 'space', 'time', 'model', 'increasingly', 'popular', 'scientific', 'study', 'recent', 'work', 'field', 'consist', 'construction', 'nonstationary', 'anisotropic', 'gaussian', 'random', 'field', 'grf', 'problem', 'equivalence', 'measure', 'corresponding', 'GRFs', 'direct', 'consequence', 'study', 'model', 'discuss', 'stationary', 'case', 'result', 'nonstationary', 'case', 'limited', 'chapter', 'investigate', 'problem', 'equivalence', 'grf', 'stationary', 'increment', 'obtain', 'sufficient', 'condition', 'equivalence', 'term', 'behavior', 'spectral', 'measure', 'infinity', 'far', 'main', 'result', 'apply', 'rich', 'family', 'nonstationary', 'space', 'time', 'model', 'possible', 'anisotropy', 'behavior', 'estimate', 'covariance', 'structure', 'spatial', 'random', 'process', 'important', 'step', 'spatial', 'datum', 'analysis', 'maximum', 'likelihood', 'estimation', 'popular', 'method', 'spatial', 'model', 'base', 'gaussian', 'random', 'field', 'calculate', 'likelihood', 'large', 'scale', 'datum', 'set', 'computationally', 'infeasible', 'heavy', 'computation', 'precision', 'matrix', 'way', 'mitigate', 'issue', 'Furrer', 'et', 'al      ', 'taper', 'covariance', 'matrix', 'result', 'current', 'literature', 'focus', 'isotropic', 'tapering', 'stationary', 'gaussian', 'process', 'case', 'application', 'require', 'modeling', 'anisotropy', 'and or', 'nonstationarity', 'article', 'propose', 'nonstationary', 'parametric', 'model', 'underlie', 'gaussian', 'random', 'field', 'different', 'regularity', 'different', 'direction', 'apply', 'model', 'anisotropy', 'use', 'theory', 'equivalence', 'gaussian', 'measure', 'nonstationary', 'assumption', 'strong', 'consistency', 'taper', 'likelihood', 'base', 'estimation', 'variance', 'component', 'fix', 'domain', 'asymptotic', 'derive', 'mild', 'condition', 'spectral', 'behavior', 'tapering', 'covariance', 'function', 'procedure', 'illustrate', 'numerical', 'simulation', 'Special', 'Issue', 'Data', 'Science', 'Science', 'invite', 'original', 'survey', 'manuscript', 'bring', 'novel', 'datum', 'science', 'machine', 'learning', 'AI', 'methodology', 'application', 'modern', 'finance', 'evaluate', 'submission', 'basis', 'scientific', 'rigor', 'technical', 'depth', 'ethical', 'standard', 'regardless', 'perceive', 'novelty', 'value', 'highquality', 'paper', 'interesting', 'relevant', 'research', 'hypothesis', 'and or', 'new', 'dataset', 'previously', 'untapped', 'datum', 'source', 'digital', 'economy', 'blockchain', 'ledger', 'etc', 'welcome', 'original', 'unpublished', 'innovative', 'submission', 'include', 'limit', 'follow', 'area', 'research', 'covid   ', 'pandemic', '    ', 'cause', 'sudden', 'shock', 'transportation', 'system', 'specifically', 'subway', 'ridership', 'pattern', 'New', 'York', 'City', 'NYC', 'U S ', 'understand', 'temporal', 'pattern', 'subway', 'ridership', 'statistical', 'model', 'crucial', 'shock', 'exist', 'statistical', 'framework', 'good', 'fit', 'analyze', 'ridership', 'datum', 'set', 'pandemic', 'modeling', 'assumption', 'violate', 'time', 'paper', 'utilize', 'change', 'point', 'detection', 'procedure', 'piecewise', 'stationary', 'time', 'series', 'model', 'propose', 'capture', 'nonstationary', 'structure', 'subway', 'ridership', 'specifically', 'model', 'consist', 'independent', 'station', 'base', 'autoregressive', 'integrate', 'average', 'ARIMA', 'model', 'concatenate', 'certain', 'time', 'point', 'far', 'data', 'drive', 'algorithm', 'utilize', 'detect', 'change', 'ridership', 'pattern', 'fast', 'transmission', 'rate', 'covid   ', 'worldwide', 'virus', 'important', 'challenge', 'year', '    ', 'mitigation', 'policy', 'impose', 'government', 'different', 'regional', 'level', 'country', 'state', 'county', 'city', 'stop', 'spread', 'virus', 'quantify', 'effect', 'mitigation', 'strategy', 'transmission', 'recovery', 'rate', 'predict', 'rate', 'new', 'daily', 'case', 'crucial', 'task', 'paper', 'propose', 'hybrid', 'modeling', 'framework', 'account', 'policy', 'utilize', 'spatial', 'temporal', 'information', 'characterize', 'pattern', 'covid   ', 'progression', 'specifically', 'piecewise', 'susceptible', 'infect', 'recover', 'SIR', 'model', 'develop', 'date', 'transmission', 'recover', 'rate', 'change', 'significantly', 'define', 'break', 'point', 'model', 'novel', 'data', 'drive', 'algorithm', 'design', 'locate', 'break', 'point', 'use', 'idea', 'paper', 'develop', 'general', 'flexible', 'framework', 'Network', 'Autoregressive', 'Processes', 'NAR', 'response', 'node', 'linearly', 'depend', 'past', 'value', 'prespecified', 'linear', 'combination', 'neighboring', 'node', 'set', 'node', 'specific', 'covariate', 'corresponding', 'coefficient', 'node', 'specific', 'framework', 'accommodate', 'heavy', 'gaussian', 'error', 'spatial', 'autorgressive', 'factor', 'base', 'covariance', 'structure', 'provide', 'sufficient', 'condition', 'ensure', 'stability', 'stationarity', 'underlying', 'nar', 'significantly', 'weak', 'counterpart', 'previous', 'work', 'literature', 'far', 'develop', 'ordinary', 'generalized', 'square', 'estimator', 'fix', 'diverge', 'number', 'network', 'node', 'provide', 'ridge', 'regularize', 'counterpart', 'exhibit', 'performance', 'large', 'network', 'setting', 'asymptotic', 'distribution', 'address', 'issue', 'misspecifye', 'network', 'connectivity', 'impact', 'aforementione', 'asymptotic', 'distribution', 'nar', 'parameter', 'estimator', 'framework', 'illustrate', 'synthetic', 'real', 'air', 'pollution', 'datum', 'increase', 'interest', 'identify', 'change', 'underlie', 'state', 'brain', 'network', 'availability', 'large', 'scale', 'neuroimaging', 'data', 'create', 'strong', 'need', 'develop', 'fast', 'scalable', 'method', 'detect', 'localize', 'time', 'change', 'identify', 'driver', 'enable', 'neuroscientist', 'hypothesize', 'potential', 'mechanism', 'paper', 'present', 'fast', 'method', 'detect', 'break', 'point', 'exceedingly', 'long', 'time', 'series', 'neurogimage', 'data', 'base', 'vector', 'autoregressive', 'granger', 'causal', 'model', 'use', 'multi', 'step', 'strategy', 'base', 'regularize', 'objective', 'function', 'lead', 'fast', 'identification', 'candidate', 'break', 'point', 'follow', 'cluster', 'step', 'select', 'final', 'set', 'break', 'point', 'subsequent', 'estimation', 'false', 'positive', 'control', 'underlie', 'Granger', 'causal', 'network', 'provide', 'insight', 'key', 'change', 'network', 'connectivity', 'lead', 'presence', 'break', 'point', 'functional', 'data', 'analysis', 'prove', 'useful', 'scientific', 'application', 'physical', 'process', 'observe', 'curve', 'application', 'curve', 'observe', 'multiple', 'subject', 'provide', 'replicate', 'statistical', 'sense', 'recent', 'literature', 'develop', 'technique', 'register', 'curve', 'estimate', 'associate', 'model', 'regression', 'framework', 'standard', 'regression', 'model', 'ignore', 'heterogeneity', 'curve', 'functional', 'linear', 'mixed', 'model', 'popular', 'way', 'combine', 'curve', 'capture', 'variability', 'curve', 'random', 'effect', 'good', 'work', 'available', 'analyze', 'functional', 'datum', 'use', 'mixed', 'model', 'limited', 'attention', 'pay', 'inference', 'estimation', 'concentrate', 'measure', 'uncertainty', 'term', 'mean', 'square', 'error', 'functional', 'linear', 'mixed', 'model', 'use', 'prediction', 'measure', 'uncertainty', 'paramount', 'Appendix', 'A', 'collect', 'technical', 'lemma', 'need', 'prove', 'main', 'result', 'present', 'Appendix', 'B ', 'Details', 'algorithm', 'solve', 'optimization', 'problem', 'present', 'Appendix', 'C', 'selection', 'tuning', 'parameter', 'discuss', 'detail', 'Appendix', 'D ', 'far', 'additional', 'simulation', 'result', 'comparison', 'compete', 'method', 'report', 'Appendix', 'E ', 'finally', 'note', 'constant', 'c ', 'c ', '   ', 'k ', 'k ', '   ', 'proof', 'Lemmas', 'Theorems', 'generic', 'constant', 'repetition', 'different', 'place', 'proof', 'imply', 'identical', 'Vector', 'Auto', 'Regressive', 'VAR', 'model', 'commonly', 'use', 'model', 'multivariate', 'time', 'series', 'penalize', 'method', 'handle', 'high', 'dimensionality', 'term', 'spatio', 'temporal', 'datum', 'method', 'spatial', 'temporal', 'structure', 'datum', 'consideration', 'lead', 'unreliable', 'network', 'detection', 'inaccurate', 'forecast', 'paper', 'propose', 'data', 'drive', 'weight', 'l ', 'regularize', 'approach', 'spatio', 'temporal', 'VAR', 'model', 'extensive', 'simulation', 'study', 'carry', 'compare', 'propose', 'method', 'exist', 'method', 'high', 'dimensional', 'VAR', 'model', 'demonstrate', 'improvement', 'method', 'parameter', 'estimation', 'network', 'detection', 'sample', 'forecast', 'apply', 'method', 'traffic', 'datum', 'set', 'evaluate', 'performance', 'real', 'application', 'addition', 'explore', 'theoretical', 'property', 'l ', 'regularize', 'estimation', 'VAR', 'model', 'weakly', 'sparse', 'scenario', 'exact', 'sparsity', 'view', 'special', 'case', 'good', 'knowledge', 'direction', 'consider', 'literature', 'general', 'stationary', 'VAR', 'process', 'derive', 'non', 'asymptotic', 'upper', 'bound', 'l ', 'regularize', 'estimation', 'error', 'weakly', 'sparse', 'scenario', 'provide', 'condition', 'estimation', 'consistency', 'far', 'simplify', 'condition', 'special', 'VAR  ', 'case', 'study', 'plug', 'square', 'estimator', 'change', 'point', 'parameter', 'change', 'mean', 'high', 'dimensional', 'random', 'vector', 'subgaussian', 'subexponential', 'distribution', 'obtain', 'sufficient', 'condition', 'estimator', 'possess', 'sufficient', 'adaptivity', 'plug', 'estimate', 'mean', 'parameter', 'order', 'yield', 'optimal', 'rate', 'convergence', 'integer', 'scale', 'rate', 'preserve', 'allow', 'high', 'dimensionality', 'potentially', 'diminish', 'jump', 'size', 'provide', 'subgaussian', 'subexponential', 'case', 'respectively', 'represent', 'sparsity', 'parameter', 'model', 'dimension', 'sample', 'period', 'separation', 'change', 'point', 'parametric', 'boundary', 'rate', 'convergence', 'free', 'logarithmic', 'term', 'allow', 'existence', 'limit', 'distribution', 'distribution', 'derive', ' it', 'argmax', 'sided', 'negative', 'drift', 'brownian', 'motion', 'sided', 'negative', 'drift', 'random', 'walk', 'vanish', 'non', 'vanishing', 'jump', 'size', 'regime', 'respectively', 'allow', 'inference', 'change', 'point', 'parameter', 'high', 'dimensional', 'setting', 'feasible', 'algorithm', 'implementation', 'propose', 'methodology', 'provide', 'theoretical', 'result', 'support', 'monte', 'carlo', 'simulation', 'functional', 'data', 'analysis', 'prove', 'useful', 'scientific', 'application', 'physical', 'process', 'observe', 'curve', 'curve', 'observe', 'multiple', 'subject', 'provide', 'replicate', 'statistical', 'sense', 'recent', 'literature', 'develop', 'technique', 'register', 'curve', 'associated', 'model', 'estimation', 'little', 'investigate', 'statistical', 'inference', 'specifically', 'uncertainty', 'estimation', 'article', 'consider', 'functional', 'linear', 'mixed', 'modeling', 'approach', 'combine', 'curve', 'concentrate', 'measure', 'uncertainty', 'functional', 'linear', 'mixed', 'model', 'use', 'prediction', 'measure', 'uncertainty', 'paramount', 'interest', 'statistical', 'prediction', 'closed', 'form', 'expression', 'available', 'functional', 'mixed', 'effect', 'model', 'real', 'life', 'application', 'finite', 'number', 'curve', 'observe', 'situation', 'important', 'asse', 'error', 'rate', 'valid', 'statistical', 'statement', 'derive', 'theoretically', 'valid', 'approximation', 'uncertainty', 'measurement', 'suitable', 'modify', 'estimation', 'technique', 'illustrate', 'method', 'numerical', 'example', 'compare', 'exist', 'literature', 'appropriate', 'method', 'computationally', 'simple', 'outperform', 'method', 'driver', 'tend', 'range', 'anxiety', 'compare', 'drive', 'traditional', 'fuel', 'vehicle', 'drive', 'battery', 'electric', 'vehicle', 'BEV', 'long', 'trip', 'range', 'anxiety', 'potentially', 'negative', 'effect', 'driver', ' s', 'emotion', 'behavior', 'order', 'understand', 'behavior', 'improve', 'related', 'safety', 'issue', 'paper', 'focus', 'BEV', 'driver', 'study', 'China', 'survey', 'BEV', 'driver', 'actual', 'range', 'anxiety', 'effect', 'range', 'anxiety', 'driver', 'behavior', 'conduct', 'research', 'level', 'feeling', 'attitude', 'interviewee', 'quantize', 'Likert', 'scale', 'use', 'mathematical', 'tool', 'relationship', 'safety', 'buffer', 'define', 'measurement', 'period', 'range', 'anxiety', 'start', 'significantly', 'intervene', 'driver', ' s', 'operation', 'research', 'reveal', 'proportional', 'quotative', 'relationship', 'BEV', 'driver', 'safety', 'buffer', 'mileage', 'trip', 'factor', 'include', 'drive', 'experience', 'satisfactory', 'level', 'recharge', 'accessibility', 'resistibility', 'emotion', 'find', 'significant', 'contributing', 'factor', 'influence', 'perceive', 'range', 'anxiety', 'level', 'BEV', 'driver', 'research', 'provide', 'implication', 'future', 'study', 'interface', 'design', 'BEV', 'demand', 'e', 'hail', 'service', 'grow', 'rapidly', 'especially', 'large', 'city', 'uber', 'popular', 'e', 'hail', 'company', 'United', 'Stated', 'New', 'York', 'City', 'comparison', 'demand', 'yellow', 'cab', 'Uber', 'NYC', '    ', '    ', 'demand', 'Uber', 'increase', 'demand', 'distribute', 'uniformly', 'spatially', 'temporally', 'use', 'spatio', 'temporal', 'time', 'series', 'model', 'help', 'understand', 'demand', 'e', 'hail', 'service', 'predict', 'accurately', 'paper', 'analyze', 'prediction', 'performance', 'temporal', 'model', 'vector', 'autoregressive', 'VAR', 'spatio', 'temporal', 'model', 'spatial', 'temporal', 'autoregressive', 'STAR', 'absolute', 'shrinkage', 'selection', 'operator', 'apply', 'STAR', 'LASSO', 'STAR', 'different', 'scenario', 'base', 'number', 'time', 'space', 'lag', 'apply', 'rush', 'hour', 'non', 'rush', 'hour', 'period', 'note', 'STATS', 'GR', '    ', 'Time', 'Series', 'Analysis', 'Columbia', 'University', 'Course', 'topic', 'include', 'limit', 'square', 'smooth', 'prediction', 'linear', 'system', 'fourier', 'analysis', 'spectral', 'estimation', 'impulse', 'response', 'transfer', 'function', 'fouri', 'series', 'fast', 'fourier', 'transform', 'autocorrelation', 'function', 'spectral', 'density', 'univariate', 'Box', 'Jenkins', 'modeling', 'forecasting', 'vector', 'auto', 'regressive', 'VAR', 'model', 'commonly', 'use', 'model', 'multivariate', 'time', 'series', 'penalize', 'method', 'handle', 'high', 'dimensionality', 'spatio', 'temporal', 'datum', 'method', 'consider', 'spatial', 'temporal', 'structure', 'datum', 'lead', 'unreliable', 'network', 'detection', 'inaccurate', 'forecast', 'paper', 'propose', 'data', 'drive', 'weight', 'l ', 'regularize', 'approach', 'spatio', 'temporal', 'VAR', 'model', 'extensive', 'simulation', 'study', 'compare', 'propose', 'method', 'exist', 'method', 'high', 'dimensional', 'VAR', 'model', 'demonstrate', 'advantage', 'method', 'term', 'parameter', 'estimation', 'network', 'detection', 'outof', 'sample', 'forecast', 'apply', 'method', 'traffic', 'datum', 'set', 'evaluate', 'performance', 'real', 'application', 'addition', 'explore', 'theoretical', 'property', 'l ', 'regularize', 'estimation', 'VAR', 'model', 'weakly', 'sparse', 'scenario', 'exact', 'sparsity', 'view', 'special', 'case', 'good', 'knowledge', 'study', 'general', 'stationary', 'VAR', 'process', 'derive', 'nonasymptotic', 'upper', 'bound', 'l ', 'regularize', 'estimation', 'error', 'provide', 'condition', 'estimation', 'consistency', 'far', 'assume', 'stationarity', 'unrealistic', 'time', 'series', 'application', 'realistic', 'alternative', 'assume', 'piecewise', 'stationarity', 'model', 'allow', 'change', 'potentially', 'time', 'point', 'propose', 'stage', 'procedure', 'consistent', 'estimation', 'structural', 'change', 'point', 'parameter', 'high', 'dimensional', 'piecewise', 'vector', 'autoregressive', 'VAR', 'model', 'step', 'reformulate', 'change', 'point', 'detection', 'problem', 'high', 'dimensional', 'variable', 'selection', 'solve', 'use', 'penalize', 'square', 'estimator', 'total', 'variation', 'penalty', 'propose', 'penalize', 'estimation', 'method', 'estimate', 'number', 'change', 'point', 'propose', 'selection', 'criterion', 'identify', 'change', 'point', 'step', 'procedure', 'estimate', 'VAR', 'parameter', 'segment', 'prove', 'propose', 'procedure', 'consistently', 'detect', 'number', 'change', 'Vector', 'Auto', 'Regressive', 'VAR', 'model', 'commonly', 'use', 'model', 'multivariate', 'time', 'series', 'penalize', 'method', 'handle', 'high', 'dimensionality', 'term', 'spatio', 'temporal', 'datum', 'method', 'spatial', 'temporal', 'structure', 'datum', 'consideration', 'lead', 'unreliable', 'network', 'detection', 'inaccurate', 'forecast', 'paper', 'propose', 'data', 'drive', 'weight', 'l ', 'regularize', 'approach', 'spatio', 'temporal', 'VAR', 'model', 'extensive', 'simulation', 'study', 'carry', 'compare', 'propose', 'method', 'exist', 'method', 'high', 'dimensional', 'VAR', 'model', 'demonstrate', 'improvement', 'method', 'parameter', 'estimation', 'network', 'detection', 'sample', 'forecast', 'apply', 'method', 'traffic', 'datum', 'set', 'evaluate', 'performance', 'real', 'application', 'addition', 'explore', 'theoretical', 'property', 'l ', 'regularize', 'estimation', 'VAR', 'model', 'fast', 'transmission', 'rate', 'covid   ', 'worldwide', 'virus', 'important', 'challenge', 'year', '    ', 'mitigation', 'policy', 'impose', 'government', 'different', 'regional', 'level', 'country', 'state', 'county', 'city', 'stop', 'spread', 'virus', 'quantify', 'effect', 'mitigation', 'strategy', 'transmission', 'recovery', 'rate', 'predict', 'rate', 'new', 'daily', 'case', 'crucial', 'task', 'paper', 'propose', 'modeling', 'framework', 'account', 'policy', 'utilize', 'spatial', 'temporal', 'information', 'characterize', 'pattern', 'covid   ', 'progression', 'specifically', 'piecewise', 'susceptible', 'infect', 'recover', 'SIR', 'model', 'develop', 'date', 'transmission', 'recover', 'rate', 'change', 'significantly', 'define', 'break', 'point', 'model', 'novel', 'data', 'drive', 'algorithm', 'design', 'locate', 'break', 'point', 'use', 'idea', 'fused', 'lasso']\n"
     ]
    }
   ],
   "source": [
    "print(bag_of_words)"
   ]
  },
  {
   "cell_type": "code",
   "execution_count": 94,
   "id": "361f02b9",
   "metadata": {},
   "outputs": [],
   "source": [
    "dict = {\"Name\" :'Abolfazl Safikhani', 'key_words' : [bag_of_words]}\n"
   ]
  },
  {
   "cell_type": "code",
   "execution_count": 95,
   "id": "1f2cf39a",
   "metadata": {
    "scrolled": false
   },
   "outputs": [],
   "source": [
    "dataframe = pd.DataFrame(dict)"
   ]
  },
  {
   "cell_type": "code",
   "execution_count": 96,
   "id": "47359e3f",
   "metadata": {},
   "outputs": [
    {
     "name": "stdout",
     "output_type": "stream",
     "text": [
      "                 Name                                          key_words\n",
      "0  Abolfazl Safikhani  [assume, stationarity, unrealistic, time, seri...\n"
     ]
    }
   ],
   "source": [
    "print(dataframe)"
   ]
  },
  {
   "cell_type": "code",
   "execution_count": null,
   "id": "fe048933",
   "metadata": {},
   "outputs": [],
   "source": []
  },
  {
   "cell_type": "code",
   "execution_count": null,
   "id": "d204ba04",
   "metadata": {},
   "outputs": [],
   "source": []
  }
 ],
 "metadata": {
  "kernelspec": {
   "display_name": "Python 3 (ipykernel)",
   "language": "python",
   "name": "python3"
  },
  "language_info": {
   "codemirror_mode": {
    "name": "ipython",
    "version": 3
   },
   "file_extension": ".py",
   "mimetype": "text/x-python",
   "name": "python",
   "nbconvert_exporter": "python",
   "pygments_lexer": "ipython3",
   "version": "3.9.7"
  }
 },
 "nbformat": 4,
 "nbformat_minor": 5
}
