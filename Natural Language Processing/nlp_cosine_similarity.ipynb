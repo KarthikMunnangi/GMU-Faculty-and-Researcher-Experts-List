{
 "cells": [
  {
   "cell_type": "code",
   "execution_count": 25,
   "id": "454edf1a",
   "metadata": {},
   "outputs": [],
   "source": [
    "import pandas as pd\n",
    "import numpy\n",
    "import re\n",
    "import spacy"
   ]
  },
  {
   "cell_type": "markdown",
   "id": "115090cf",
   "metadata": {},
   "source": [
    "# Loading the datasets:  combined publications, category definitions, area definitions, individual publications"
   ]
  },
  {
   "cell_type": "code",
   "execution_count": 26,
   "id": "0acca0fb",
   "metadata": {},
   "outputs": [],
   "source": [
    "df1 = pd.read_csv(\"C:/Users/harsh/Desktop/project/data/Combined_Names_Descriptions_Titles.csv\", header=0,\n",
    "                    delimiter=\",\",encoding = \"ISO-8859-1\")                             # dataframe of the combined publications                              \n",
    "\n",
    "\n",
    "\n",
    "\n",
    "df2 = pd.read_csv(\"C:/Users/harsh/Desktop/project/data/CEC_definitions_final.csv\", header=0,\n",
    "                    delimiter=\",\",encoding = \"ISO-8859-1\")                                                     # dataframe of the categories                   \n",
    "\n",
    "df2 = df2.drop_duplicates()\n",
    "df2  =df2.reset_index()\n",
    "df2= df2.reset_index()\n",
    "df2.rename(columns = {'level_0':'ID'}, inplace = True)\n",
    "df2 = df2[['ID','Category','def']]\n",
    "\n",
    "\n",
    "df3 = pd.read_csv(\"C:/Users/harsh/Desktop/project/data/CEC_area_definitions.csv\", header=0,\n",
    "                    delimiter=\",\",encoding = \"ISO-8859-1\")                                     # dataframe of the areas           \n",
    "\n",
    "\n",
    "df3 = df3.reset_index()\n",
    "df3.rename(columns = {'index':'ID'}, inplace = True)\n",
    "\n",
    "\n",
    "df4 = pd.read_csv(\"C:/Users/harsh/Desktop/project/data/Final_Data_For_NLP.csv\", header=0,\n",
    "                    delimiter=\",\",encoding = \"ISO-8859-1\")                                              \n",
    "df4 = df4[['ID','Name','descriptions']]                                           # dataframe of the individual publications\n"
   ]
  },
  {
   "cell_type": "markdown",
   "id": "46bb36eb",
   "metadata": {},
   "source": [
    "# View first 5 rows of dataframes"
   ]
  },
  {
   "cell_type": "code",
   "execution_count": 27,
   "id": "ed8f2494",
   "metadata": {},
   "outputs": [
    {
     "data": {
      "text/html": [
       "<div>\n",
       "<style scoped>\n",
       "    .dataframe tbody tr th:only-of-type {\n",
       "        vertical-align: middle;\n",
       "    }\n",
       "\n",
       "    .dataframe tbody tr th {\n",
       "        vertical-align: top;\n",
       "    }\n",
       "\n",
       "    .dataframe thead th {\n",
       "        text-align: right;\n",
       "    }\n",
       "</style>\n",
       "<table border=\"1\" class=\"dataframe\">\n",
       "  <thead>\n",
       "    <tr style=\"text-align: right;\">\n",
       "      <th></th>\n",
       "      <th>Unnamed: 0</th>\n",
       "      <th>Name</th>\n",
       "      <th>Description_Title</th>\n",
       "    </tr>\n",
       "  </thead>\n",
       "  <tbody>\n",
       "    <tr>\n",
       "      <th>0</th>\n",
       "      <td>0</td>\n",
       "      <td>abolfazl safikhani</td>\n",
       "      <td>abolfazl safikhani currently assistant profes...</td>\n",
       "    </tr>\n",
       "    <tr>\n",
       "      <th>1</th>\n",
       "      <td>1</td>\n",
       "      <td>aditya johri</td>\n",
       "      <td>aditya johri studies use information communic...</td>\n",
       "    </tr>\n",
       "    <tr>\n",
       "      <th>2</th>\n",
       "      <td>2</td>\n",
       "      <td>ahmed bin zaman</td>\n",
       "      <td>ever tell story let say friends called zoo ba...</td>\n",
       "    </tr>\n",
       "    <tr>\n",
       "      <th>3</th>\n",
       "      <td>3</td>\n",
       "      <td>alexander brodsky</td>\n",
       "      <td>alex brodsky joined george mason university 1...</td>\n",
       "    </tr>\n",
       "    <tr>\n",
       "      <th>4</th>\n",
       "      <td>4</td>\n",
       "      <td>alexander levis</td>\n",
       "      <td>alexander h levis university professor electr...</td>\n",
       "    </tr>\n",
       "  </tbody>\n",
       "</table>\n",
       "</div>"
      ],
      "text/plain": [
       "   Unnamed: 0                Name  \\\n",
       "0           0  abolfazl safikhani   \n",
       "1           1        aditya johri   \n",
       "2           2     ahmed bin zaman   \n",
       "3           3   alexander brodsky   \n",
       "4           4     alexander levis   \n",
       "\n",
       "                                   Description_Title  \n",
       "0   abolfazl safikhani currently assistant profes...  \n",
       "1   aditya johri studies use information communic...  \n",
       "2   ever tell story let say friends called zoo ba...  \n",
       "3   alex brodsky joined george mason university 1...  \n",
       "4   alexander h levis university professor electr...  "
      ]
     },
     "execution_count": 27,
     "metadata": {},
     "output_type": "execute_result"
    }
   ],
   "source": [
    "df1[:5]"
   ]
  },
  {
   "cell_type": "code",
   "execution_count": 28,
   "id": "2e127c69",
   "metadata": {},
   "outputs": [
    {
     "data": {
      "text/html": [
       "<div>\n",
       "<style scoped>\n",
       "    .dataframe tbody tr th:only-of-type {\n",
       "        vertical-align: middle;\n",
       "    }\n",
       "\n",
       "    .dataframe tbody tr th {\n",
       "        vertical-align: top;\n",
       "    }\n",
       "\n",
       "    .dataframe thead th {\n",
       "        text-align: right;\n",
       "    }\n",
       "</style>\n",
       "<table border=\"1\" class=\"dataframe\">\n",
       "  <thead>\n",
       "    <tr style=\"text-align: right;\">\n",
       "      <th></th>\n",
       "      <th>ID</th>\n",
       "      <th>Category</th>\n",
       "      <th>def</th>\n",
       "    </tr>\n",
       "  </thead>\n",
       "  <tbody>\n",
       "    <tr>\n",
       "      <th>559</th>\n",
       "      <td>559</td>\n",
       "      <td>interdependencies</td>\n",
       "      <td>interdependencies the dependence of two or mor...</td>\n",
       "    </tr>\n",
       "    <tr>\n",
       "      <th>560</th>\n",
       "      <td>560</td>\n",
       "      <td>value chain</td>\n",
       "      <td>value chain is a progression of activities tha...</td>\n",
       "    </tr>\n",
       "    <tr>\n",
       "      <th>561</th>\n",
       "      <td>561</td>\n",
       "      <td>digital value chain</td>\n",
       "      <td>digital value chain is a set of processes that...</td>\n",
       "    </tr>\n",
       "    <tr>\n",
       "      <th>562</th>\n",
       "      <td>562</td>\n",
       "      <td>native american</td>\n",
       "      <td>native american a member of any of the indigen...</td>\n",
       "    </tr>\n",
       "    <tr>\n",
       "      <th>563</th>\n",
       "      <td>563</td>\n",
       "      <td>infrastructure</td>\n",
       "      <td>infrastructure is the set of facilities and sy...</td>\n",
       "    </tr>\n",
       "  </tbody>\n",
       "</table>\n",
       "</div>"
      ],
      "text/plain": [
       "      ID             Category  \\\n",
       "559  559    interdependencies   \n",
       "560  560          value chain   \n",
       "561  561  digital value chain   \n",
       "562  562      native american   \n",
       "563  563       infrastructure   \n",
       "\n",
       "                                                   def  \n",
       "559  interdependencies the dependence of two or mor...  \n",
       "560  value chain is a progression of activities tha...  \n",
       "561  digital value chain is a set of processes that...  \n",
       "562  native american a member of any of the indigen...  \n",
       "563  infrastructure is the set of facilities and sy...  "
      ]
     },
     "execution_count": 28,
     "metadata": {},
     "output_type": "execute_result"
    }
   ],
   "source": [
    "df2[559:564]"
   ]
  },
  {
   "cell_type": "code",
   "execution_count": 29,
   "id": "6b202cb2",
   "metadata": {},
   "outputs": [
    {
     "data": {
      "text/html": [
       "<div>\n",
       "<style scoped>\n",
       "    .dataframe tbody tr th:only-of-type {\n",
       "        vertical-align: middle;\n",
       "    }\n",
       "\n",
       "    .dataframe tbody tr th {\n",
       "        vertical-align: top;\n",
       "    }\n",
       "\n",
       "    .dataframe thead th {\n",
       "        text-align: right;\n",
       "    }\n",
       "</style>\n",
       "<table border=\"1\" class=\"dataframe\">\n",
       "  <thead>\n",
       "    <tr style=\"text-align: right;\">\n",
       "      <th></th>\n",
       "      <th>ID</th>\n",
       "      <th>area</th>\n",
       "      <th>def</th>\n",
       "    </tr>\n",
       "  </thead>\n",
       "  <tbody>\n",
       "    <tr>\n",
       "      <th>0</th>\n",
       "      <td>0</td>\n",
       "      <td>artificial intelligence</td>\n",
       "      <td>contrived art rather nature artificially forma...</td>\n",
       "    </tr>\n",
       "    <tr>\n",
       "      <th>1</th>\n",
       "      <td>1</td>\n",
       "      <td>autonomous systems</td>\n",
       "      <td>of political bodies existing independent entit...</td>\n",
       "    </tr>\n",
       "    <tr>\n",
       "      <th>2</th>\n",
       "      <td>2</td>\n",
       "      <td>computer engineering</td>\n",
       "      <td>machine performing calculations automatically ...</td>\n",
       "    </tr>\n",
       "    <tr>\n",
       "      <th>3</th>\n",
       "      <td>3</td>\n",
       "      <td>computer networks communications</td>\n",
       "      <td>machine performing calculations automatically ...</td>\n",
       "    </tr>\n",
       "    <tr>\n",
       "      <th>4</th>\n",
       "      <td>4</td>\n",
       "      <td>cybersecurity</td>\n",
       "      <td>na</td>\n",
       "    </tr>\n",
       "  </tbody>\n",
       "</table>\n",
       "</div>"
      ],
      "text/plain": [
       "   ID                              area  \\\n",
       "0   0           artificial intelligence   \n",
       "1   1                autonomous systems   \n",
       "2   2              computer engineering   \n",
       "3   3  computer networks communications   \n",
       "4   4                     cybersecurity   \n",
       "\n",
       "                                                 def  \n",
       "0  contrived art rather nature artificially forma...  \n",
       "1  of political bodies existing independent entit...  \n",
       "2  machine performing calculations automatically ...  \n",
       "3  machine performing calculations automatically ...  \n",
       "4                                                 na  "
      ]
     },
     "execution_count": 29,
     "metadata": {},
     "output_type": "execute_result"
    }
   ],
   "source": [
    "df3[:5]"
   ]
  },
  {
   "cell_type": "code",
   "execution_count": 30,
   "id": "7c81cf1e",
   "metadata": {},
   "outputs": [
    {
     "data": {
      "text/html": [
       "<div>\n",
       "<style scoped>\n",
       "    .dataframe tbody tr th:only-of-type {\n",
       "        vertical-align: middle;\n",
       "    }\n",
       "\n",
       "    .dataframe tbody tr th {\n",
       "        vertical-align: top;\n",
       "    }\n",
       "\n",
       "    .dataframe thead th {\n",
       "        text-align: right;\n",
       "    }\n",
       "</style>\n",
       "<table border=\"1\" class=\"dataframe\">\n",
       "  <thead>\n",
       "    <tr style=\"text-align: right;\">\n",
       "      <th></th>\n",
       "      <th>ID</th>\n",
       "      <th>Name</th>\n",
       "      <th>descriptions</th>\n",
       "    </tr>\n",
       "  </thead>\n",
       "  <tbody>\n",
       "    <tr>\n",
       "      <th>0</th>\n",
       "      <td>0</td>\n",
       "      <td>abolfazl safikhani</td>\n",
       "      <td>abolfazl safikhani currently assistant profess...</td>\n",
       "    </tr>\n",
       "    <tr>\n",
       "      <th>1</th>\n",
       "      <td>1</td>\n",
       "      <td>aditya johri</td>\n",
       "      <td>aditya johri studies use information communica...</td>\n",
       "    </tr>\n",
       "    <tr>\n",
       "      <th>2</th>\n",
       "      <td>2</td>\n",
       "      <td>ahmed bin zaman</td>\n",
       "      <td>ever tell story let say friends called zoo bad...</td>\n",
       "    </tr>\n",
       "    <tr>\n",
       "      <th>3</th>\n",
       "      <td>3</td>\n",
       "      <td>alexander brodsky</td>\n",
       "      <td>alex brodsky joined george mason university 19...</td>\n",
       "    </tr>\n",
       "    <tr>\n",
       "      <th>4</th>\n",
       "      <td>4</td>\n",
       "      <td>alexander levis</td>\n",
       "      <td>alexander h levis university professor electri...</td>\n",
       "    </tr>\n",
       "  </tbody>\n",
       "</table>\n",
       "</div>"
      ],
      "text/plain": [
       "   ID                Name                                       descriptions\n",
       "0   0  abolfazl safikhani  abolfazl safikhani currently assistant profess...\n",
       "1   1        aditya johri  aditya johri studies use information communica...\n",
       "2   2     ahmed bin zaman  ever tell story let say friends called zoo bad...\n",
       "3   3   alexander brodsky  alex brodsky joined george mason university 19...\n",
       "4   4     alexander levis  alexander h levis university professor electri..."
      ]
     },
     "execution_count": 30,
     "metadata": {},
     "output_type": "execute_result"
    }
   ],
   "source": [
    "df4[:5]"
   ]
  },
  {
   "cell_type": "code",
   "execution_count": 31,
   "id": "a5247850",
   "metadata": {},
   "outputs": [],
   "source": [
    "nlp = spacy.load('en_core_web_sm')      #loading the english dictionary from spacy package "
   ]
  },
  {
   "cell_type": "markdown",
   "id": "2b7293ed",
   "metadata": {},
   "source": [
    "# Defining a helper function for stemming and lemmatizing the text "
   ]
  },
  {
   "cell_type": "code",
   "execution_count": 32,
   "id": "98c9c084",
   "metadata": {},
   "outputs": [],
   "source": [
    "def stem(text):                                                                        \n",
    "\tx = []\n",
    "\tdoc = nlp(str(text))\n",
    "\n",
    "\tfor word in doc:\n",
    "\t\tx.append(word.lemma_)\n",
    "\treturn \" \".join(x)"
   ]
  },
  {
   "cell_type": "code",
   "execution_count": 33,
   "id": "cd6f3bb1",
   "metadata": {},
   "outputs": [],
   "source": [
    "df1['Description_Title']= df1['Description_Title'].apply(stem)          # applying helper function to the dataframes\n",
    "\n",
    "df2['def']= df2['def'].apply(stem)\n",
    "\n",
    "df3['def']= df3['def'].apply(stem)\n",
    "\n",
    "df4['descriptions'] = df4['descriptions'].apply(stem)"
   ]
  },
  {
   "cell_type": "code",
   "execution_count": 34,
   "id": "2508caf5",
   "metadata": {},
   "outputs": [],
   "source": [
    "from sklearn.feature_extraction.text import CountVectorizer\n",
    "\n",
    "cv = CountVectorizer()                                                 # initializing the count vectorizer "
   ]
  },
  {
   "cell_type": "markdown",
   "id": "d7f9b2e9",
   "metadata": {},
   "source": [
    "# Vectorizing using combined publications dataframe"
   ]
  },
  {
   "cell_type": "code",
   "execution_count": 35,
   "id": "00959d62",
   "metadata": {},
   "outputs": [],
   "source": [
    "fit = cv.fit(df1['Description_Title'])                                                  \n",
    "\n",
    "\n",
    "author_vectors=fit.transform(df1['Description_Title']).toarray()\n",
    "\n",
    "category_vectors = fit.transform(df2['def']).toarray()\n",
    "\n",
    "area_Vectors = fit.transform(df3['def']).toarray()"
   ]
  },
  {
   "cell_type": "markdown",
   "id": "f79428ef",
   "metadata": {},
   "source": [
    "# Vectorizing using individual publications dataframe\n"
   ]
  },
  {
   "cell_type": "code",
   "execution_count": 36,
   "id": "7f50471c",
   "metadata": {},
   "outputs": [],
   "source": [
    "pub_fit = cv.fit(df4['descriptions'])                                                         \n",
    "pub_author_vectors=pub_fit.transform(df4['descriptions']).toarray()\n",
    "\n",
    "pub_category_vectors = pub_fit.transform(df2['def']).toarray()\n",
    "\n",
    "pub_area_Vectors = pub_fit.transform(df3['def']).toarray()\n"
   ]
  },
  {
   "cell_type": "markdown",
   "id": "fd491735",
   "metadata": {},
   "source": [
    "# Helper function to calculate the cosine similarity"
   ]
  },
  {
   "cell_type": "code",
   "execution_count": 37,
   "id": "6aa6e921",
   "metadata": {},
   "outputs": [],
   "source": [
    "from sklearn.metrics.pairwise import cosine_similarity\n",
    "\n",
    "def cosine_sim_vectors(vec1, vec2):                                                   \n",
    "    vec1 = vec1.reshape(1,-1)\n",
    "    vec2 = vec2.reshape(1,-1)\n",
    "\n",
    "    return cosine_similarity(vec1,vec2)[0][0]"
   ]
  },
  {
   "cell_type": "markdown",
   "id": "171dfdc4",
   "metadata": {},
   "source": [
    "# Looping through the combined authors vectors and calculating cosine similarity with each category and creating a list of scores"
   ]
  },
  {
   "cell_type": "code",
   "execution_count": 38,
   "id": "8a13e469",
   "metadata": {},
   "outputs": [],
   "source": [
    "cosine_sim_list_cat = []                    \n",
    " \n",
    "for i in range(len(author_vectors)):\n",
    "    dummy = []\n",
    "    for j in range(len(category_vectors)):\n",
    "        similarity = cosine_sim_vectors(author_vectors[i],category_vectors[j])\n",
    "        dummy.append(similarity)\n",
    "    cosine_sim_list_cat.append(dummy)\n",
    "    "
   ]
  },
  {
   "cell_type": "markdown",
   "id": "4a57abfc",
   "metadata": {},
   "source": [
    "# Looping through the combined authors vectors and calculating cosine similarity with each area and creating a list of scores"
   ]
  },
  {
   "cell_type": "code",
   "execution_count": 39,
   "id": "969f2f98",
   "metadata": {},
   "outputs": [],
   "source": [
    "cosine_sim_list_area = []\n",
    "\n",
    "for i in range(len(author_vectors)):                                        \n",
    "    dummy = []\n",
    "    for j in range(len(area_Vectors)):\n",
    "        similarity = cosine_sim_vectors(author_vectors[i],area_Vectors[j])\n",
    "        dummy.append(similarity)\n",
    "    cosine_sim_list_area.append(dummy)\n",
    "    "
   ]
  },
  {
   "cell_type": "markdown",
   "id": "d096b8bf",
   "metadata": {},
   "source": [
    "# Looping through the pub_authors vectors and calculating cosine similarity with each category and creating a list of scores"
   ]
  },
  {
   "cell_type": "code",
   "execution_count": 40,
   "id": "1a40a0ab",
   "metadata": {},
   "outputs": [],
   "source": [
    "pub_cosine_sim_list_cat = []\n",
    "\n",
    "for i in range(len(pub_author_vectors)):                       \n",
    "    dummy = []\n",
    "    for j in range(len(pub_category_vectors)):\n",
    "        similarity = cosine_sim_vectors(pub_author_vectors[i],pub_category_vectors[j])\n",
    "        dummy.append(similarity)\n",
    "    pub_cosine_sim_list_cat.append(dummy)\n",
    "    "
   ]
  },
  {
   "cell_type": "markdown",
   "id": "e72b0c63",
   "metadata": {},
   "source": [
    "# Looping through the pub_authors vectors and calculating cosine similarity with each area and creating a list of scores"
   ]
  },
  {
   "cell_type": "code",
   "execution_count": 41,
   "id": "6689f32d",
   "metadata": {},
   "outputs": [],
   "source": [
    "pub_cosine_sim_list_area = []\n",
    "\n",
    "for i in range(len(pub_author_vectors)):\n",
    "    dummy = []\n",
    "    for j in range(len(pub_area_Vectors)):\n",
    "        similarity = cosine_sim_vectors(pub_author_vectors[i],pub_area_Vectors[j])\n",
    "        dummy.append(similarity)\n",
    "    pub_cosine_sim_list_area.append(dummy)\n",
    "    \n"
   ]
  },
  {
   "cell_type": "markdown",
   "id": "2c0e934a",
   "metadata": {},
   "source": [
    "# Looping through the category vectors and calculating cosine similarity with each author and creating a list of scores"
   ]
  },
  {
   "cell_type": "code",
   "execution_count": 57,
   "id": "6e01be37",
   "metadata": {},
   "outputs": [],
   "source": [
    "person_cosine_sim_list = []\n",
    "\n",
    "for i in range(len(category_vectors )):                       \n",
    "    dummy = []\n",
    "    for j in range(len(author_vectors)):\n",
    "        similarity = cosine_sim_vectors(category_vectors [i],author_vectors[j])\n",
    "        dummy.append(similarity)\n",
    "    person_cosine_sim_list.append(dummy)\n"
   ]
  },
  {
   "cell_type": "markdown",
   "id": "84aeca40",
   "metadata": {},
   "source": [
    "# Looping through the category vectors and calculating cosine similarity with each author and creating a list of scores"
   ]
  },
  {
   "cell_type": "code",
   "execution_count": 83,
   "id": "e1ae910a",
   "metadata": {},
   "outputs": [],
   "source": [
    "area_person_cosine_sim_list = []\n",
    "\n",
    "for i in range(len(area_Vectors)):                       \n",
    "    dummy = []\n",
    "    for j in range(len(author_vectors)):\n",
    "        similarity = cosine_sim_vectors(area_Vectors [i],author_vectors[j])\n",
    "        dummy.append(similarity)\n",
    "    area_person_cosine_sim_list.append(dummy)"
   ]
  },
  {
   "cell_type": "markdown",
   "id": "b2a6af94",
   "metadata": {},
   "source": [
    "# Looping through the cosine sim list and taking the top 10 category names and scores"
   ]
  },
  {
   "cell_type": "code",
   "execution_count": 58,
   "id": "ede80e85",
   "metadata": {},
   "outputs": [],
   "source": [
    "top10_cat = []                                   \n",
    "score_cat = []\n",
    "for i in range(0,len(cosine_sim_list_cat)):                             \n",
    "    top10 = sorted(list(enumerate(cosine_sim_list_cat[i])),reverse = True, key = lambda x:x[1])[0:10]\n",
    "    dummy = []\n",
    "    score_dummy = []\n",
    "    for j in top10:\n",
    "        a = j[0]\n",
    "        b = j[1]\n",
    "        category_name = df2['Category'][a]\n",
    "        dummy.append(category_name)\n",
    "        score_dummy.append(b)\n",
    "    top10_cat.append(dummy)\n",
    "    score_cat.append(score_dummy)"
   ]
  },
  {
   "cell_type": "markdown",
   "id": "c326e43e",
   "metadata": {},
   "source": [
    "# Looping through the cosine sim list and taking the top 10 area names and scores"
   ]
  },
  {
   "cell_type": "code",
   "execution_count": 59,
   "id": "6dce0e20",
   "metadata": {},
   "outputs": [],
   "source": [
    "top10_area = []            \n",
    "score_area = []\n",
    "for i in range(0,len(cosine_sim_list_area)):                                  \n",
    "    top10 = sorted(list(enumerate(cosine_sim_list_area[i])),reverse = True, key = lambda x:x[1])[0:10]\n",
    "    dummy = []\n",
    "    score_dummy = []\n",
    "    for j in top10:\n",
    "        a = j[0]\n",
    "        b = j[1]\n",
    "        area_name = df3['area'][a]\n",
    "        dummy.append(area_name)\n",
    "        score_dummy.append(b)\n",
    "    top10_area.append(dummy)\n",
    "    score_area.append(score_dummy)"
   ]
  },
  {
   "cell_type": "markdown",
   "id": "92f61576",
   "metadata": {},
   "source": [
    "# Looping through the cosine sim list and taking the top 10 category names for each individual publication"
   ]
  },
  {
   "cell_type": "code",
   "execution_count": 60,
   "id": "7b2b9b88",
   "metadata": {},
   "outputs": [],
   "source": [
    "pub_top10_cat = []\n",
    "pub_score_cat = []\n",
    "for i in range(0,len(pub_cosine_sim_list_cat)): \n",
    "    top10 = sorted(list(enumerate(pub_cosine_sim_list_cat[i])),reverse = True, key = lambda x:x[1])[0:10]\n",
    "    dummy = []\n",
    "    score_dummy = []\n",
    "    for j in top10:\n",
    "        a = j[0]\n",
    "        b = j[1]\n",
    "        category_name = df2['Category'][a]\n",
    "        dummy.append(category_name)\n",
    "        score_dummy.append(b)\n",
    "    pub_top10_cat.append(dummy)\n",
    "    pub_score_cat.append(score_dummy)"
   ]
  },
  {
   "cell_type": "markdown",
   "id": "a433558a",
   "metadata": {},
   "source": [
    "# Looping through the cosine sim list and taking the top 10 area names for each individual publication"
   ]
  },
  {
   "cell_type": "code",
   "execution_count": 61,
   "id": "94228638",
   "metadata": {},
   "outputs": [],
   "source": [
    "pub_top10_area = []\n",
    "pub_score_area = []\n",
    "for i in range(0,len(pub_cosine_sim_list_area)):\n",
    "    top10 = sorted(list(enumerate(pub_cosine_sim_list_area[i])),reverse = True, key = lambda x:x[1])[0:10]\n",
    "    dummy = []\n",
    "    score_dummy = []\n",
    "    for j in top10:\n",
    "        a = j[0]\n",
    "        b = j[1]\n",
    "        area_name = df3['area'][a]\n",
    "        dummy.append(area_name)\n",
    "        score_dummy.append(b)\n",
    "    pub_top10_area.append(dummy)\n",
    "    pub_score_area.append(score_dummy)"
   ]
  },
  {
   "cell_type": "markdown",
   "id": "bea04843",
   "metadata": {},
   "source": [
    "# Looping through the cosine sim list and taking the top 10 author names for each category"
   ]
  },
  {
   "cell_type": "code",
   "execution_count": 62,
   "id": "82577758",
   "metadata": {},
   "outputs": [],
   "source": [
    "pub_top10_person = []\n",
    "pub_score_person = []\n",
    "for i in range(0,len(person_cosine_sim_list)):\n",
    "    top10 = sorted(list(enumerate(person_cosine_sim_list[i])),reverse = True, key = lambda x:x[1])[0:10]\n",
    "    dummy = []\n",
    "    score_dummy = []\n",
    "    for j in top10:\n",
    "        a = j[0]\n",
    "        b = j[1]\n",
    "        name = df1['Name'][a]\n",
    "        dummy.append(name)\n",
    "        score_dummy.append(b)\n",
    "    pub_top10_person.append(dummy)\n",
    "    pub_score_person.append(score_dummy)"
   ]
  },
  {
   "cell_type": "markdown",
   "id": "f78635c7",
   "metadata": {},
   "source": [
    "# Looping through the cosine sim list and taking the top 10 author names for each area"
   ]
  },
  {
   "cell_type": "code",
   "execution_count": 84,
   "id": "3d61ec25",
   "metadata": {},
   "outputs": [],
   "source": [
    "top10_person_area = []\n",
    "score_person_area = []\n",
    "for i in range(0,len(area_person_cosine_sim_list)):\n",
    "    top10 = sorted(list(enumerate(area_person_cosine_sim_list[i])),reverse = True, key = lambda x:x[1])[0:10]\n",
    "    dummy = []\n",
    "    score_dummy = []\n",
    "    for j in top10:\n",
    "        a = j[0]\n",
    "        b = j[1]\n",
    "        name = df1['Name'][a]\n",
    "        dummy.append(name)\n",
    "        score_dummy.append(b)\n",
    "    top10_person_area.append(dummy)\n",
    "    score_person_area.append(score_dummy)"
   ]
  },
  {
   "cell_type": "code",
   "execution_count": 85,
   "id": "11cc91f3",
   "metadata": {},
   "outputs": [],
   "source": [
    "df1['similar_categories'] = top10_cat                 #adding the list to the dataframe\n",
    "df1['category_score'] = score_cat\n",
    "df1['similar_area'] = top10_area\n",
    "df1['area_score'] = score_area\n",
    "\n",
    "df4['similar_categories'] = pub_top10_cat\n",
    "df4['category_score'] = pub_score_cat\n",
    "df4['similar_area'] = pub_top10_area\n",
    "df4['area_score'] = pub_score_area\n",
    "\n",
    "df2['top10'] = pub_top10_person\n",
    "df2['top10_scores']= pub_score_person\n",
    "\n",
    "df3['top10'] = top10_person_area\n",
    "df3['top10_scores']= score_person_area"
   ]
  },
  {
   "cell_type": "code",
   "execution_count": 86,
   "id": "e06e99de",
   "metadata": {},
   "outputs": [],
   "source": [
    "cat_df= df1[['Name','Description_Title','similar_categories','category_score']]       #creating  new dataframes with the required columns\n",
    "area_df = df1[['Name','Description_Title','similar_area','area_score']]\n",
    "pub_cat_df= df4[['Name','descriptions','similar_categories','category_score']]\n",
    "pub_area_df = df4[['Name','descriptions','similar_area','area_score']]\n",
    "\n",
    "top10_authors_cat = df2[['Category','top10','top10_scores']]\n",
    "top10_authors_area = df3[['area','top10','top10_scores']]"
   ]
  },
  {
   "cell_type": "markdown",
   "id": "9fadd790",
   "metadata": {},
   "source": [
    "# View first 5 rows of the output dataframes"
   ]
  },
  {
   "cell_type": "code",
   "execution_count": 87,
   "id": "16c17ada",
   "metadata": {},
   "outputs": [
    {
     "data": {
      "text/html": [
       "<div>\n",
       "<style scoped>\n",
       "    .dataframe tbody tr th:only-of-type {\n",
       "        vertical-align: middle;\n",
       "    }\n",
       "\n",
       "    .dataframe tbody tr th {\n",
       "        vertical-align: top;\n",
       "    }\n",
       "\n",
       "    .dataframe thead th {\n",
       "        text-align: right;\n",
       "    }\n",
       "</style>\n",
       "<table border=\"1\" class=\"dataframe\">\n",
       "  <thead>\n",
       "    <tr style=\"text-align: right;\">\n",
       "      <th></th>\n",
       "      <th>Name</th>\n",
       "      <th>Description_Title</th>\n",
       "      <th>similar_categories</th>\n",
       "      <th>category_score</th>\n",
       "    </tr>\n",
       "  </thead>\n",
       "  <tbody>\n",
       "    <tr>\n",
       "      <th>0</th>\n",
       "      <td>abolfazl safikhani</td>\n",
       "      <td>abolfazl safikhani currently assistant profe...</td>\n",
       "      <td>[stochastic modeling, modeling nanoparticles, ...</td>\n",
       "      <td>[0.3258514946996161, 0.3232521973429334, 0.323...</td>\n",
       "    </tr>\n",
       "    <tr>\n",
       "      <th>1</th>\n",
       "      <td>aditya johri</td>\n",
       "      <td>aditya johri study use information communica...</td>\n",
       "      <td>[results clinical studies, bioengineering, eng...</td>\n",
       "      <td>[0.2769955015366262, 0.27643225241166486, 0.27...</td>\n",
       "    </tr>\n",
       "    <tr>\n",
       "      <th>2</th>\n",
       "      <td>ahmed bin zaman</td>\n",
       "      <td>ever tell story let say friend call zoo bad ...</td>\n",
       "      <td>[structural engineering, structural stress, st...</td>\n",
       "      <td>[0.3581828950543877, 0.33878704316095354, 0.32...</td>\n",
       "    </tr>\n",
       "    <tr>\n",
       "      <th>3</th>\n",
       "      <td>alexander brodsky</td>\n",
       "      <td>alex brodsky join george mason university 19...</td>\n",
       "      <td>[model based systems engineering, network mode...</td>\n",
       "      <td>[0.2560685111848679, 0.22484437003969773, 0.22...</td>\n",
       "    </tr>\n",
       "    <tr>\n",
       "      <th>4</th>\n",
       "      <td>alexander levis</td>\n",
       "      <td>alexander h levis university professor elect...</td>\n",
       "      <td>[network modeling, model based systems enginee...</td>\n",
       "      <td>[0.31516382127767395, 0.313822808174314, 0.310...</td>\n",
       "    </tr>\n",
       "  </tbody>\n",
       "</table>\n",
       "</div>"
      ],
      "text/plain": [
       "                 Name                                  Description_Title  \\\n",
       "0  abolfazl safikhani    abolfazl safikhani currently assistant profe...   \n",
       "1        aditya johri    aditya johri study use information communica...   \n",
       "2     ahmed bin zaman    ever tell story let say friend call zoo bad ...   \n",
       "3   alexander brodsky    alex brodsky join george mason university 19...   \n",
       "4     alexander levis    alexander h levis university professor elect...   \n",
       "\n",
       "                                  similar_categories  \\\n",
       "0  [stochastic modeling, modeling nanoparticles, ...   \n",
       "1  [results clinical studies, bioengineering, eng...   \n",
       "2  [structural engineering, structural stress, st...   \n",
       "3  [model based systems engineering, network mode...   \n",
       "4  [network modeling, model based systems enginee...   \n",
       "\n",
       "                                      category_score  \n",
       "0  [0.3258514946996161, 0.3232521973429334, 0.323...  \n",
       "1  [0.2769955015366262, 0.27643225241166486, 0.27...  \n",
       "2  [0.3581828950543877, 0.33878704316095354, 0.32...  \n",
       "3  [0.2560685111848679, 0.22484437003969773, 0.22...  \n",
       "4  [0.31516382127767395, 0.313822808174314, 0.310...  "
      ]
     },
     "execution_count": 87,
     "metadata": {},
     "output_type": "execute_result"
    }
   ],
   "source": [
    "cat_df[:5]"
   ]
  },
  {
   "cell_type": "code",
   "execution_count": 88,
   "id": "f6fd91e6",
   "metadata": {},
   "outputs": [
    {
     "data": {
      "text/html": [
       "<div>\n",
       "<style scoped>\n",
       "    .dataframe tbody tr th:only-of-type {\n",
       "        vertical-align: middle;\n",
       "    }\n",
       "\n",
       "    .dataframe tbody tr th {\n",
       "        vertical-align: top;\n",
       "    }\n",
       "\n",
       "    .dataframe thead th {\n",
       "        text-align: right;\n",
       "    }\n",
       "</style>\n",
       "<table border=\"1\" class=\"dataframe\">\n",
       "  <thead>\n",
       "    <tr style=\"text-align: right;\">\n",
       "      <th></th>\n",
       "      <th>Name</th>\n",
       "      <th>Description_Title</th>\n",
       "      <th>similar_area</th>\n",
       "      <th>area_score</th>\n",
       "    </tr>\n",
       "  </thead>\n",
       "  <tbody>\n",
       "    <tr>\n",
       "      <th>0</th>\n",
       "      <td>abolfazl safikhani</td>\n",
       "      <td>abolfazl safikhani currently assistant profe...</td>\n",
       "      <td>[stochastic modeling, statistical modeling, ap...</td>\n",
       "      <td>[0.3258514946996161, 0.3192429620458017, 0.129...</td>\n",
       "    </tr>\n",
       "    <tr>\n",
       "      <th>1</th>\n",
       "      <td>aditya johri</td>\n",
       "      <td>aditya johri study use information communica...</td>\n",
       "      <td>[design results clinical studies, visual compu...</td>\n",
       "      <td>[0.27032910538576066, 0.21385780181719366, 0.1...</td>\n",
       "    </tr>\n",
       "    <tr>\n",
       "      <th>2</th>\n",
       "      <td>ahmed bin zaman</td>\n",
       "      <td>ever tell story let say friend call zoo bad ...</td>\n",
       "      <td>[structural engineering, autonomous systems, e...</td>\n",
       "      <td>[0.3581828950543877, 0.09065956796066224, 0.09...</td>\n",
       "    </tr>\n",
       "    <tr>\n",
       "      <th>3</th>\n",
       "      <td>alexander brodsky</td>\n",
       "      <td>alex brodsky join george mason university 19...</td>\n",
       "      <td>[stochastic modeling, statistical modeling, ap...</td>\n",
       "      <td>[0.18918082523955362, 0.18388119261399738, 0.1...</td>\n",
       "    </tr>\n",
       "    <tr>\n",
       "      <th>4</th>\n",
       "      <td>alexander levis</td>\n",
       "      <td>alexander h levis university professor elect...</td>\n",
       "      <td>[stochastic modeling, statistical modeling, bi...</td>\n",
       "      <td>[0.27222136005626746, 0.26661380395023954, 0.1...</td>\n",
       "    </tr>\n",
       "  </tbody>\n",
       "</table>\n",
       "</div>"
      ],
      "text/plain": [
       "                 Name                                  Description_Title  \\\n",
       "0  abolfazl safikhani    abolfazl safikhani currently assistant profe...   \n",
       "1        aditya johri    aditya johri study use information communica...   \n",
       "2     ahmed bin zaman    ever tell story let say friend call zoo bad ...   \n",
       "3   alexander brodsky    alex brodsky join george mason university 19...   \n",
       "4     alexander levis    alexander h levis university professor elect...   \n",
       "\n",
       "                                        similar_area  \\\n",
       "0  [stochastic modeling, statistical modeling, ap...   \n",
       "1  [design results clinical studies, visual compu...   \n",
       "2  [structural engineering, autonomous systems, e...   \n",
       "3  [stochastic modeling, statistical modeling, ap...   \n",
       "4  [stochastic modeling, statistical modeling, bi...   \n",
       "\n",
       "                                          area_score  \n",
       "0  [0.3258514946996161, 0.3192429620458017, 0.129...  \n",
       "1  [0.27032910538576066, 0.21385780181719366, 0.1...  \n",
       "2  [0.3581828950543877, 0.09065956796066224, 0.09...  \n",
       "3  [0.18918082523955362, 0.18388119261399738, 0.1...  \n",
       "4  [0.27222136005626746, 0.26661380395023954, 0.1...  "
      ]
     },
     "execution_count": 88,
     "metadata": {},
     "output_type": "execute_result"
    }
   ],
   "source": [
    "area_df[:5]"
   ]
  },
  {
   "cell_type": "code",
   "execution_count": 89,
   "id": "e1c040a4",
   "metadata": {},
   "outputs": [
    {
     "data": {
      "text/html": [
       "<div>\n",
       "<style scoped>\n",
       "    .dataframe tbody tr th:only-of-type {\n",
       "        vertical-align: middle;\n",
       "    }\n",
       "\n",
       "    .dataframe tbody tr th {\n",
       "        vertical-align: top;\n",
       "    }\n",
       "\n",
       "    .dataframe thead th {\n",
       "        text-align: right;\n",
       "    }\n",
       "</style>\n",
       "<table border=\"1\" class=\"dataframe\">\n",
       "  <thead>\n",
       "    <tr style=\"text-align: right;\">\n",
       "      <th></th>\n",
       "      <th>Name</th>\n",
       "      <th>descriptions</th>\n",
       "      <th>similar_categories</th>\n",
       "      <th>category_score</th>\n",
       "    </tr>\n",
       "  </thead>\n",
       "  <tbody>\n",
       "    <tr>\n",
       "      <th>0</th>\n",
       "      <td>abolfazl safikhani</td>\n",
       "      <td>abolfazl safikhani currently assistant profess...</td>\n",
       "      <td>[statistical modeling, stochastic modeling, pr...</td>\n",
       "      <td>[0.16037507477489607, 0.14433756729740646, 0.1...</td>\n",
       "    </tr>\n",
       "    <tr>\n",
       "      <th>1</th>\n",
       "      <td>aditya johri</td>\n",
       "      <td>aditya johri study use information communicati...</td>\n",
       "      <td>[bioengineering, engineering computing student...</td>\n",
       "      <td>[0.15474611514754325, 0.13257401008712377, 0.1...</td>\n",
       "    </tr>\n",
       "    <tr>\n",
       "      <th>2</th>\n",
       "      <td>ahmed bin zaman</td>\n",
       "      <td>ever tell story let say friend call zoo bad re...</td>\n",
       "      <td>[neural interfaces, architecture, hardware, ai...</td>\n",
       "      <td>[0.158113883008419, 0.1224744871391589, 0.1217...</td>\n",
       "    </tr>\n",
       "    <tr>\n",
       "      <th>3</th>\n",
       "      <td>alexander brodsky</td>\n",
       "      <td>alex brodsky join george mason university 1993...</td>\n",
       "      <td>[subsystems, neural networks, neuroscience, co...</td>\n",
       "      <td>[0.18519709381740776, 0.136147096098501, 0.113...</td>\n",
       "    </tr>\n",
       "    <tr>\n",
       "      <th>4</th>\n",
       "      <td>alexander levis</td>\n",
       "      <td>alexander h levis university professor electri...</td>\n",
       "      <td>[subsystems, bioengineering, neuroscience, dat...</td>\n",
       "      <td>[0.1858288839247533, 0.153301007957441, 0.1517...</td>\n",
       "    </tr>\n",
       "  </tbody>\n",
       "</table>\n",
       "</div>"
      ],
      "text/plain": [
       "                 Name                                       descriptions  \\\n",
       "0  abolfazl safikhani  abolfazl safikhani currently assistant profess...   \n",
       "1        aditya johri  aditya johri study use information communicati...   \n",
       "2     ahmed bin zaman  ever tell story let say friend call zoo bad re...   \n",
       "3   alexander brodsky  alex brodsky join george mason university 1993...   \n",
       "4     alexander levis  alexander h levis university professor electri...   \n",
       "\n",
       "                                  similar_categories  \\\n",
       "0  [statistical modeling, stochastic modeling, pr...   \n",
       "1  [bioengineering, engineering computing student...   \n",
       "2  [neural interfaces, architecture, hardware, ai...   \n",
       "3  [subsystems, neural networks, neuroscience, co...   \n",
       "4  [subsystems, bioengineering, neuroscience, dat...   \n",
       "\n",
       "                                      category_score  \n",
       "0  [0.16037507477489607, 0.14433756729740646, 0.1...  \n",
       "1  [0.15474611514754325, 0.13257401008712377, 0.1...  \n",
       "2  [0.158113883008419, 0.1224744871391589, 0.1217...  \n",
       "3  [0.18519709381740776, 0.136147096098501, 0.113...  \n",
       "4  [0.1858288839247533, 0.153301007957441, 0.1517...  "
      ]
     },
     "execution_count": 89,
     "metadata": {},
     "output_type": "execute_result"
    }
   ],
   "source": [
    "pub_cat_df[:5]"
   ]
  },
  {
   "cell_type": "code",
   "execution_count": 90,
   "id": "75d9335e",
   "metadata": {},
   "outputs": [
    {
     "data": {
      "text/html": [
       "<div>\n",
       "<style scoped>\n",
       "    .dataframe tbody tr th:only-of-type {\n",
       "        vertical-align: middle;\n",
       "    }\n",
       "\n",
       "    .dataframe tbody tr th {\n",
       "        vertical-align: top;\n",
       "    }\n",
       "\n",
       "    .dataframe thead th {\n",
       "        text-align: right;\n",
       "    }\n",
       "</style>\n",
       "<table border=\"1\" class=\"dataframe\">\n",
       "  <thead>\n",
       "    <tr style=\"text-align: right;\">\n",
       "      <th></th>\n",
       "      <th>Name</th>\n",
       "      <th>descriptions</th>\n",
       "      <th>similar_area</th>\n",
       "      <th>area_score</th>\n",
       "    </tr>\n",
       "  </thead>\n",
       "  <tbody>\n",
       "    <tr>\n",
       "      <th>0</th>\n",
       "      <td>abolfazl safikhani</td>\n",
       "      <td>abolfazl safikhani currently assistant profess...</td>\n",
       "      <td>[statistical modeling, stochastic modeling, ed...</td>\n",
       "      <td>[0.16037507477489607, 0.14433756729740646, 0.1...</td>\n",
       "    </tr>\n",
       "    <tr>\n",
       "      <th>1</th>\n",
       "      <td>aditya johri</td>\n",
       "      <td>aditya johri study use information communicati...</td>\n",
       "      <td>[data analytics, education, design results cli...</td>\n",
       "      <td>[0.12930163676704717, 0.11788145340170698, 0.1...</td>\n",
       "    </tr>\n",
       "    <tr>\n",
       "      <th>2</th>\n",
       "      <td>ahmed bin zaman</td>\n",
       "      <td>ever tell story let say friend call zoo bad re...</td>\n",
       "      <td>[computational biomedicine, software engineeri...</td>\n",
       "      <td>[0.10170952554312154, 0.0939336436627724, 0.07...</td>\n",
       "    </tr>\n",
       "    <tr>\n",
       "      <th>3</th>\n",
       "      <td>alexander brodsky</td>\n",
       "      <td>alex brodsky join george mason university 1993...</td>\n",
       "      <td>[data analytics, energy, computer networks com...</td>\n",
       "      <td>[0.08548569901134032, 0.08423853269968526, 0.0...</td>\n",
       "    </tr>\n",
       "    <tr>\n",
       "      <th>4</th>\n",
       "      <td>alexander levis</td>\n",
       "      <td>alexander h levis university professor electri...</td>\n",
       "      <td>[software engineering, visual computing, compu...</td>\n",
       "      <td>[0.1040849940787939, 0.0870034280745056, 0.085...</td>\n",
       "    </tr>\n",
       "  </tbody>\n",
       "</table>\n",
       "</div>"
      ],
      "text/plain": [
       "                 Name                                       descriptions  \\\n",
       "0  abolfazl safikhani  abolfazl safikhani currently assistant profess...   \n",
       "1        aditya johri  aditya johri study use information communicati...   \n",
       "2     ahmed bin zaman  ever tell story let say friend call zoo bad re...   \n",
       "3   alexander brodsky  alex brodsky join george mason university 1993...   \n",
       "4     alexander levis  alexander h levis university professor electri...   \n",
       "\n",
       "                                        similar_area  \\\n",
       "0  [statistical modeling, stochastic modeling, ed...   \n",
       "1  [data analytics, education, design results cli...   \n",
       "2  [computational biomedicine, software engineeri...   \n",
       "3  [data analytics, energy, computer networks com...   \n",
       "4  [software engineering, visual computing, compu...   \n",
       "\n",
       "                                          area_score  \n",
       "0  [0.16037507477489607, 0.14433756729740646, 0.1...  \n",
       "1  [0.12930163676704717, 0.11788145340170698, 0.1...  \n",
       "2  [0.10170952554312154, 0.0939336436627724, 0.07...  \n",
       "3  [0.08548569901134032, 0.08423853269968526, 0.0...  \n",
       "4  [0.1040849940787939, 0.0870034280745056, 0.085...  "
      ]
     },
     "execution_count": 90,
     "metadata": {},
     "output_type": "execute_result"
    }
   ],
   "source": [
    "pub_area_df[:5]"
   ]
  },
  {
   "cell_type": "code",
   "execution_count": 92,
   "id": "fac40f10",
   "metadata": {},
   "outputs": [
    {
     "data": {
      "text/html": [
       "<div>\n",
       "<style scoped>\n",
       "    .dataframe tbody tr th:only-of-type {\n",
       "        vertical-align: middle;\n",
       "    }\n",
       "\n",
       "    .dataframe tbody tr th {\n",
       "        vertical-align: top;\n",
       "    }\n",
       "\n",
       "    .dataframe thead th {\n",
       "        text-align: right;\n",
       "    }\n",
       "</style>\n",
       "<table border=\"1\" class=\"dataframe\">\n",
       "  <thead>\n",
       "    <tr style=\"text-align: right;\">\n",
       "      <th></th>\n",
       "      <th>Category</th>\n",
       "      <th>top10</th>\n",
       "      <th>top10_scores</th>\n",
       "    </tr>\n",
       "  </thead>\n",
       "  <tbody>\n",
       "    <tr>\n",
       "      <th>0</th>\n",
       "      <td>cognitive systems</td>\n",
       "      <td>[janis terpenny, jim chen, amarda shehu, ray h...</td>\n",
       "      <td>[0.1708341315141826, 0.14954998827887028, 0.13...</td>\n",
       "    </tr>\n",
       "    <tr>\n",
       "      <th>1</th>\n",
       "      <td>intelligent agents</td>\n",
       "      <td>[gheorghe tecuci, mihai boicu, jim chen, sanma...</td>\n",
       "      <td>[0.11724547106430705, 0.11078950953330423, 0.1...</td>\n",
       "    </tr>\n",
       "    <tr>\n",
       "      <th>2</th>\n",
       "      <td>knowledge representation reasoning</td>\n",
       "      <td>[mihai boicu, gheorghe tecuci, jim chen, samue...</td>\n",
       "      <td>[0.141288203564421, 0.13392502573750803, 0.108...</td>\n",
       "    </tr>\n",
       "    <tr>\n",
       "      <th>3</th>\n",
       "      <td>machine learning</td>\n",
       "      <td>[gheorghe tecuci, mihai boicu, aditya johri, r...</td>\n",
       "      <td>[0.26394415454644365, 0.22742026590093653, 0.1...</td>\n",
       "    </tr>\n",
       "    <tr>\n",
       "      <th>4</th>\n",
       "      <td>natural language processing</td>\n",
       "      <td>[duminda wijesekera, rajesh ganesan, daniel ba...</td>\n",
       "      <td>[0.20385771488056054, 0.1986324846786106, 0.19...</td>\n",
       "    </tr>\n",
       "  </tbody>\n",
       "</table>\n",
       "</div>"
      ],
      "text/plain": [
       "                             Category  \\\n",
       "0                   cognitive systems   \n",
       "1                  intelligent agents   \n",
       "2  knowledge representation reasoning   \n",
       "3                    machine learning   \n",
       "4         natural language processing   \n",
       "\n",
       "                                               top10  \\\n",
       "0  [janis terpenny, jim chen, amarda shehu, ray h...   \n",
       "1  [gheorghe tecuci, mihai boicu, jim chen, sanma...   \n",
       "2  [mihai boicu, gheorghe tecuci, jim chen, samue...   \n",
       "3  [gheorghe tecuci, mihai boicu, aditya johri, r...   \n",
       "4  [duminda wijesekera, rajesh ganesan, daniel ba...   \n",
       "\n",
       "                                        top10_scores  \n",
       "0  [0.1708341315141826, 0.14954998827887028, 0.13...  \n",
       "1  [0.11724547106430705, 0.11078950953330423, 0.1...  \n",
       "2  [0.141288203564421, 0.13392502573750803, 0.108...  \n",
       "3  [0.26394415454644365, 0.22742026590093653, 0.1...  \n",
       "4  [0.20385771488056054, 0.1986324846786106, 0.19...  "
      ]
     },
     "execution_count": 92,
     "metadata": {},
     "output_type": "execute_result"
    }
   ],
   "source": [
    "top10_authors_cat[:5]"
   ]
  },
  {
   "cell_type": "code",
   "execution_count": 93,
   "id": "b3034d4a",
   "metadata": {},
   "outputs": [
    {
     "data": {
      "text/html": [
       "<div>\n",
       "<style scoped>\n",
       "    .dataframe tbody tr th:only-of-type {\n",
       "        vertical-align: middle;\n",
       "    }\n",
       "\n",
       "    .dataframe tbody tr th {\n",
       "        vertical-align: top;\n",
       "    }\n",
       "\n",
       "    .dataframe thead th {\n",
       "        text-align: right;\n",
       "    }\n",
       "</style>\n",
       "<table border=\"1\" class=\"dataframe\">\n",
       "  <thead>\n",
       "    <tr style=\"text-align: right;\">\n",
       "      <th></th>\n",
       "      <th>area</th>\n",
       "      <th>top10</th>\n",
       "      <th>top10_scores</th>\n",
       "    </tr>\n",
       "  </thead>\n",
       "  <tbody>\n",
       "    <tr>\n",
       "      <th>0</th>\n",
       "      <td>artificial intelligence</td>\n",
       "      <td>[myeong lee, sadegh torabi, diana wang, Ã¶zlem...</td>\n",
       "      <td>[0.2908402250838777, 0.17516394906194158, 0.16...</td>\n",
       "    </tr>\n",
       "    <tr>\n",
       "      <th>1</th>\n",
       "      <td>autonomous systems</td>\n",
       "      <td>[janis terpenny, jim chen, amarda shehu, thoma...</td>\n",
       "      <td>[0.15794679858946128, 0.14186342071370853, 0.1...</td>\n",
       "    </tr>\n",
       "    <tr>\n",
       "      <th>2</th>\n",
       "      <td>computer engineering</td>\n",
       "      <td>[gheorghe tecuci, mihai boicu, janis terpenny,...</td>\n",
       "      <td>[0.2383102303944741, 0.21215305220381353, 0.18...</td>\n",
       "    </tr>\n",
       "    <tr>\n",
       "      <th>3</th>\n",
       "      <td>computer networks communications</td>\n",
       "      <td>[myeong lee, ali k raz, daniel barbara, dumind...</td>\n",
       "      <td>[0.2680245533862051, 0.23733426053465734, 0.19...</td>\n",
       "    </tr>\n",
       "    <tr>\n",
       "      <th>4</th>\n",
       "      <td>cybersecurity</td>\n",
       "      <td>[martin slawski, kuo tian, celso moller ferrei...</td>\n",
       "      <td>[0.05397405462930527, 0.03193110314562001, 0.0...</td>\n",
       "    </tr>\n",
       "  </tbody>\n",
       "</table>\n",
       "</div>"
      ],
      "text/plain": [
       "                               area  \\\n",
       "0           artificial intelligence   \n",
       "1                autonomous systems   \n",
       "2              computer engineering   \n",
       "3  computer networks communications   \n",
       "4                     cybersecurity   \n",
       "\n",
       "                                               top10  \\\n",
       "0  [myeong lee, sadegh torabi, diana wang, Ã¶zlem...   \n",
       "1  [janis terpenny, jim chen, amarda shehu, thoma...   \n",
       "2  [gheorghe tecuci, mihai boicu, janis terpenny,...   \n",
       "3  [myeong lee, ali k raz, daniel barbara, dumind...   \n",
       "4  [martin slawski, kuo tian, celso moller ferrei...   \n",
       "\n",
       "                                        top10_scores  \n",
       "0  [0.2908402250838777, 0.17516394906194158, 0.16...  \n",
       "1  [0.15794679858946128, 0.14186342071370853, 0.1...  \n",
       "2  [0.2383102303944741, 0.21215305220381353, 0.18...  \n",
       "3  [0.2680245533862051, 0.23733426053465734, 0.19...  \n",
       "4  [0.05397405462930527, 0.03193110314562001, 0.0...  "
      ]
     },
     "execution_count": 93,
     "metadata": {},
     "output_type": "execute_result"
    }
   ],
   "source": [
    "top10_authors_area[:5]"
   ]
  },
  {
   "cell_type": "markdown",
   "id": "94818c16",
   "metadata": {},
   "source": [
    "# Converting dataframes to csv"
   ]
  },
  {
   "cell_type": "code",
   "execution_count": 94,
   "id": "d9a8420e",
   "metadata": {},
   "outputs": [],
   "source": [
    "cat_df.to_csv(\"C:/Users/harsh/Desktop/project/output/cosine_similarity_category.csv\")\n",
    "area_df.to_csv(\"C:/Users/harsh/Desktop/project/output/cosine_similarity_area.csv\")\n",
    "pub_cat_df.to_csv(\"C:/Users/harsh/Desktop/project/output/pub_cosine_similarity_category.csv\")\n",
    "pub_area_df.to_csv(\"C:/Users/harsh/Desktop/project/output/pub_cosine_similarity_area.csv\")\n",
    "top10_authors_cat.to_csv(\"C:/Users/harsh/Desktop/project/output/top10_authors_cat.csv\")\n",
    "top10_authors_area.to_csv(\"C:/Users/harsh/Desktop/project/output/top10_authors_area.csv\")"
   ]
  },
  {
   "cell_type": "code",
   "execution_count": null,
   "id": "c404b15c",
   "metadata": {},
   "outputs": [],
   "source": []
  }
 ],
 "metadata": {
  "kernelspec": {
   "display_name": "Python 3 (ipykernel)",
   "language": "python",
   "name": "python3"
  },
  "language_info": {
   "codemirror_mode": {
    "name": "ipython",
    "version": 3
   },
   "file_extension": ".py",
   "mimetype": "text/x-python",
   "name": "python",
   "nbconvert_exporter": "python",
   "pygments_lexer": "ipython3",
   "version": "3.9.7"
  }
 },
 "nbformat": 4,
 "nbformat_minor": 5
}
